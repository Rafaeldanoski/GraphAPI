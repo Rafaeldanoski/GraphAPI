{
 "cells": [
  {
   "cell_type": "markdown",
   "id": "9cafdaff-3917-4e99-9f3c-cf700eb6e212",
   "metadata": {},
   "source": [
    "# Imports"
   ]
  },
  {
   "cell_type": "code",
   "execution_count": 1,
   "id": "ee26f2dd-fae4-4049-bf14-31dc636619ef",
   "metadata": {},
   "outputs": [],
   "source": [
    "import pandas as pd\n",
    "import numpy as np\n",
    "from datetime import datetime, timedelta\n",
    "import time\n",
    "import warnings\n",
    "warnings.filterwarnings(\"ignore\")\n",
    "\n",
    "import seaborn as sns\n",
    "import matplotlib.pyplot as plt\n",
    "\n",
    "from graph_api import *"
   ]
  },
  {
   "cell_type": "markdown",
   "id": "acfd1424-7381-4e6b-8cc9-10dec6e88d08",
   "metadata": {},
   "source": [
    "# API"
   ]
  },
  {
   "cell_type": "code",
   "execution_count": 2,
   "id": "5eb29839-9e26-4594-875b-0dba100a0666",
   "metadata": {},
   "outputs": [],
   "source": [
    "fb_api = open(\"tokens/fb_token\").read()\n",
    "ad_acc = \"3120164588217844\"\n",
    "\n",
    "graph = GraphAPI(ad_acc, fb_api)"
   ]
  },
  {
   "cell_type": "markdown",
   "id": "a343f321-939b-4f45-bcba-ca4021db2de2",
   "metadata": {},
   "source": [
    "# Dataset"
   ]
  },
  {
   "cell_type": "code",
   "execution_count": 64,
   "id": "0421348e-6872-463d-a300-9dd24f329c7a",
   "metadata": {},
   "outputs": [],
   "source": [
    "df = pd.read_csv('ads_raw.csv', sep=';')"
   ]
  },
  {
   "cell_type": "code",
   "execution_count": 65,
   "id": "38f7a66c-0a1d-440f-82c5-645b831f3e45",
   "metadata": {},
   "outputs": [],
   "source": [
    "df_ads = pd.DataFrame()\n",
    "#datetime(2022,12,1)"
   ]
  },
  {
   "cell_type": "code",
   "execution_count": 66,
   "id": "c4ea003a-7f63-4a12-a823-33a676eb6a78",
   "metadata": {},
   "outputs": [
    {
     "data": {
      "text/plain": [
       "'2022-10-14'"
      ]
     },
     "execution_count": 66,
     "metadata": {},
     "output_type": "execute_result"
    }
   ],
   "source": [
    "df['date_start'].min()"
   ]
  },
  {
   "cell_type": "code",
   "execution_count": 67,
   "id": "6e4dd7dc-5a61-4f74-a2a2-767d661df3be",
   "metadata": {},
   "outputs": [
    {
     "name": "stdout",
     "output_type": "stream",
     "text": [
      "0\n"
     ]
    }
   ],
   "source": [
    "for i in range(1):\n",
    "    while True:\n",
    "        try:\n",
    "            df_temp = graph.get_ads_status(since_until=[(datetime(2022,10,14) - timedelta(days=i+1)).strftime(\"%Y-%m-%d\"),(datetime(2022,10,14) - timedelta(days=i+1)).strftime(\"%Y-%m-%d\")], increment=1, process=1, filter='GREATER_THAN', impressions=50000, effective_status=['CAMPAIGN_PAUSED'])\n",
    "            df_ads = df_ads.append(df_temp)\n",
    "            print(i)\n",
    "            break\n",
    "        except:\n",
    "            time.sleep(30)\n",
    "            print('erro',i)"
   ]
  },
  {
   "cell_type": "code",
   "execution_count": null,
   "id": "59787e42-3e10-4e58-a719-23fc8da82f2f",
   "metadata": {},
   "outputs": [
    {
     "name": "stdout",
     "output_type": "stream",
     "text": [
      "erro 0\n",
      "erro 0\n",
      "erro 0\n",
      "erro 0\n",
      "erro 0\n",
      "erro 0\n",
      "erro 0\n",
      "erro 0\n",
      "erro 0\n",
      "erro 0\n",
      "erro 0\n",
      "erro 0\n",
      "erro 0\n",
      "erro 0\n",
      "erro 0\n",
      "erro 0\n",
      "erro 0\n",
      "erro 0\n",
      "erro 0\n",
      "erro 0\n",
      "erro 0\n",
      "erro 0\n",
      "erro 0\n",
      "erro 0\n",
      "erro 0\n",
      "erro 0\n",
      "erro 0\n",
      "erro 0\n",
      "erro 0\n",
      "erro 0\n",
      "erro 0\n",
      "erro 0\n",
      "erro 0\n",
      "erro 0\n",
      "erro 0\n",
      "erro 0\n",
      "erro 0\n",
      "erro 0\n",
      "erro 0\n",
      "erro 0\n",
      "erro 0\n",
      "erro 0\n",
      "erro 0\n",
      "erro 0\n",
      "erro 0\n",
      "erro 0\n",
      "erro 0\n",
      "erro 0\n",
      "erro 0\n",
      "erro 0\n",
      "erro 0\n",
      "erro 0\n",
      "erro 0\n",
      "erro 0\n",
      "erro 0\n",
      "erro 0\n",
      "erro 0\n",
      "erro 0\n",
      "erro 0\n",
      "erro 0\n",
      "erro 0\n",
      "erro 0\n",
      "erro 0\n",
      "erro 0\n",
      "erro 0\n",
      "erro 0\n",
      "erro 0\n",
      "erro 0\n",
      "erro 0\n",
      "erro 0\n",
      "erro 0\n",
      "erro 0\n",
      "erro 0\n",
      "erro 0\n",
      "erro 0\n",
      "erro 0\n",
      "erro 0\n",
      "erro 0\n",
      "erro 0\n",
      "erro 0\n",
      "erro 0\n",
      "erro 0\n",
      "erro 0\n",
      "erro 0\n",
      "erro 0\n",
      "erro 0\n",
      "erro 0\n",
      "erro 0\n",
      "erro 0\n",
      "erro 0\n",
      "erro 0\n",
      "erro 0\n",
      "erro 0\n",
      "erro 0\n",
      "erro 0\n",
      "erro 0\n",
      "erro 0\n",
      "erro 0\n",
      "erro 0\n",
      "erro 0\n",
      "erro 0\n",
      "erro 0\n",
      "erro 0\n",
      "erro 0\n",
      "erro 0\n",
      "erro 0\n",
      "erro 0\n",
      "erro 0\n",
      "erro 0\n",
      "erro 0\n",
      "erro 0\n",
      "erro 0\n",
      "erro 0\n",
      "erro 0\n",
      "erro 0\n",
      "erro 0\n",
      "erro 0\n",
      "erro 0\n",
      "erro 0\n",
      "erro 0\n",
      "erro 0\n",
      "erro 0\n",
      "erro 0\n",
      "erro 0\n",
      "erro 0\n",
      "erro 0\n",
      "erro 0\n",
      "erro 0\n",
      "erro 0\n",
      "erro 0\n",
      "erro 0\n",
      "erro 0\n",
      "erro 0\n",
      "erro 0\n",
      "erro 0\n",
      "erro 0\n",
      "erro 0\n",
      "erro 0\n",
      "erro 0\n",
      "erro 0\n",
      "erro 0\n",
      "erro 0\n",
      "erro 0\n",
      "erro 0\n",
      "erro 0\n",
      "erro 0\n",
      "erro 0\n",
      "erro 0\n",
      "erro 0\n",
      "erro 0\n",
      "erro 0\n",
      "erro 0\n",
      "erro 0\n",
      "erro 0\n",
      "erro 0\n",
      "erro 0\n",
      "erro 0\n",
      "erro 0\n",
      "erro 0\n",
      "erro 0\n",
      "erro 0\n",
      "erro 0\n",
      "erro 0\n",
      "erro 0\n",
      "erro 0\n",
      "erro 0\n",
      "erro 0\n",
      "erro 0\n"
     ]
    }
   ],
   "source": [
    "for i in range(1):\n",
    "    while True:\n",
    "        try:\n",
    "            df_temp2 = graph.get_ads_status(since_until=[(datetime(2022,10,14)  - timedelta(days=i+1)).strftime(\"%Y-%m-%d\"),(datetime(2022,10,14) - timedelta(days=i+1)).strftime(\"%Y-%m-%d\")], increment=1, process=1, filter='LESS_THAN_OR_EQUAL', impressions=50000, effective_status=['CAMPAIGN_PAUSED'])\n",
    "            df_ads = df_ads.append(df_temp2)\n",
    "            print(i)\n",
    "            break\n",
    "        except:\n",
    "            time.sleep(30)\n",
    "            print('erro',i)"
   ]
  },
  {
   "cell_type": "code",
   "execution_count": null,
   "id": "64b45c8e-1e3f-46e5-864e-0f0e76a46db0",
   "metadata": {},
   "outputs": [],
   "source": [
    "for i in range(1):\n",
    "    while True:\n",
    "        try:\n",
    "            df_temp3 = graph.get_ads_status(since_until=[(datetime(2022,10,14) - timedelta(days=i+1)).strftime(\"%Y-%m-%d\"),(datetime(2022,10,14) - timedelta(days=i+1)).strftime(\"%Y-%m-%d\")], increment=1, process=1, filter='GREATER_THAN', impressions=0, effective_status=['PAUSED','ACTIVE','ADSET_PAUSED'])\n",
    "            df_ads = df_ads.append(df_temp3)\n",
    "            print(i)\n",
    "            break\n",
    "        except:\n",
    "            time.sleep(30)\n",
    "            print('erro',i)"
   ]
  },
  {
   "cell_type": "code",
   "execution_count": 60,
   "id": "bec95a38-8dce-42f9-a416-6ada936b6d65",
   "metadata": {},
   "outputs": [],
   "source": [
    "df_ads = df_ads[df_ads['insights'].notna()].reset_index(drop=True)"
   ]
  },
  {
   "cell_type": "code",
   "execution_count": 61,
   "id": "a1216779-2dae-45d9-98e4-d1a9fdb9e783",
   "metadata": {},
   "outputs": [],
   "source": [
    "df_ads['date_start'] = ''\n",
    "for i in range(len(df_ads)):\n",
    "    for j in range(len(df_ads['insights'][i]['data'])):\n",
    "        df_ads['date_start'][i] = df_ads['insights'][i]['data'][j]['date_start']"
   ]
  },
  {
   "cell_type": "code",
   "execution_count": 62,
   "id": "15cc2aba-0694-40c7-bac9-4ce90c9e3d64",
   "metadata": {},
   "outputs": [],
   "source": [
    "df = df.append(df_ads)"
   ]
  },
  {
   "cell_type": "code",
   "execution_count": 63,
   "id": "b1d8ad0c-d579-443f-a48d-52cad40c9618",
   "metadata": {},
   "outputs": [],
   "source": [
    "df.to_csv('ads_raw.csv', sep=';', index=False, decimal='.')"
   ]
  },
  {
   "cell_type": "markdown",
   "id": "df396c6d-1edf-4185-b332-ec78d638e638",
   "metadata": {},
   "source": [
    "## Manipulando o Raw"
   ]
  },
  {
   "cell_type": "code",
   "execution_count": null,
   "id": "ec4fc860-fada-46df-83b7-3312a6e53563",
   "metadata": {},
   "outputs": [],
   "source": [
    "df_ads_data_insights = pd.DataFrame()"
   ]
  },
  {
   "cell_type": "code",
   "execution_count": null,
   "id": "4caa4d14-c9b0-4a43-b8ce-834a49be06ce",
   "metadata": {},
   "outputs": [],
   "source": [
    "df4 = pd.DataFrame({'name':None}, index=[0])\n",
    "\n",
    "#df2 = pd.DataFrame({'name':[None],'product':[None],'type':[None],'date_start':[None],'date_stop':[None],'spend':[None]})\n",
    "for i in range(len(df_ads)):\n",
    "    for j in range(len(df_ads['insights'][i]['data'])):\n",
    "        df4['name'] = df_ads['name'][i]\n",
    "        df4['status'] = df_ads['status'][i]\n",
    "        df4['product'] = df_ads['product'][i]\n",
    "        df4['kind'] = df_ads['kind'][i]\n",
    "        df4['objective'] = df_ads['objective'][i]\n",
    "        df4['adset_name'] = df_ads['adset_name'][i]\n",
    "        df4['insta_link'] = df_ads['insta_link'][i]\n",
    "        df4['thumb_link'] = df_ads['thumb_link'][i]\n",
    "        df4['date_start'] = df_ads['insights'][i]['data'][j]['date_start']\n",
    "        df4['date_stop'] = df_ads['insights'][i]['data'][j]['date_stop']\n",
    "        df4['spend'] = float(df_ads['insights'][i]['data'][j]['spend'])\n",
    "        df4['clicks'] = int(df_ads['insights'][i]['data'][j]['clicks'])\n",
    "        df4['impressions'] = int(df_ads['insights'][i]['data'][j]['impressions'])\n",
    "        df4['frequency'] = float(df_ads['insights'][i]['data'][j]['frequency'])\n",
    "        df4['reach'] = int(df_ads['insights'][i]['data'][j]['reach'])\n",
    "        df4['ctr'] = df_ads['insights'][i]['data'][j].get('ctr') if df_ads['insights'][i]['data'][j].get('ctr') is None else float(df_ads['insights'][i]['data'][j].get('ctr'))\n",
    "        df4['cpc'] = df_ads['insights'][i]['data'][j].get('cpc') if df_ads['insights'][i]['data'][j].get('cpc') is None else float(df_ads['insights'][i]['data'][j].get('cpc'))\n",
    "        df4['cpm'] = df_ads['insights'][i]['data'][j].get('cpm') if df_ads['insights'][i]['data'][j].get('cpm') is None else float(df_ads['insights'][i]['data'][j].get('cpm'))\n",
    "        df4['video_25'] = df_ads['insights'][i]['data'][j].get('video_p25_watched_actions') if df_ads['insights'][i]['data'][j].get('video_p25_watched_actions') is None else int(df_ads['insights'][i]['data'][j]['video_p25_watched_actions'][0]['value'])\n",
    "        df4['video_50'] = df_ads['insights'][i]['data'][j].get('video_p50_watched_actions') if df_ads['insights'][i]['data'][j].get('video_p50_watched_actions') is None else int(df_ads['insights'][i]['data'][j]['video_p50_watched_actions'][0]['value'])\n",
    "        df4['video_75'] = df_ads['insights'][i]['data'][j].get('video_p75_watched_actions') if df_ads['insights'][i]['data'][j].get('video_p75_watched_actions') is None else int(df_ads['insights'][i]['data'][j]['video_p75_watched_actions'][0]['value'])\n",
    "        \n",
    "        #purchase\n",
    "        try:\n",
    "            for n in range(len(df_ads['insights'][i]['data'][j]['actions'])):\n",
    "                if df_ads['insights'][i]['data'][j]['actions'][n].get('action_type') == 'purchase':\n",
    "                    df4['purchase'] = int(df_ads['insights'][i]['data'][j]['actions'][n].get('value'))\n",
    "                    df4['purchase_roas'] = float(df_ads['insights'][i]['data'][j]['purchase_roas'][0]['value'])\n",
    "        except:\n",
    "            df4['purchase'] = 0\n",
    "            df4['purchase_roas'] = 0\n",
    "            \n",
    "        for k in range(len(df_ads['targetingsentencelines'][i]['targetingsentencelines'])):\n",
    "            try:\n",
    "                col = df_ads['targetingsentencelines'][i]['targetingsentencelines'][k]['content']\n",
    "                row = df_ads['targetingsentencelines'][i]['targetingsentencelines'][k]['children']\n",
    "                df4[col] = row\n",
    "            except:\n",
    "                df4[col] = 0\n",
    "                \n",
    "        \n",
    "        df_ads_data_insights = df_ads_data_insights.append(df4)\n",
    "        \n",
    "df_ads_data_insights.reset_index(drop=True, inplace=True)\n",
    "\n",
    "for i in range(len(df_ads_data_insights['Posicionamentos:'])):\n",
    "    df_ads_data_insights['Posicionamentos:'][i] = df_ads_data_insights['Posicionamentos:'][i].split(',')"
   ]
  },
  {
   "cell_type": "code",
   "execution_count": null,
   "id": "de739220-4c14-4250-89f0-e51a2af03dff",
   "metadata": {},
   "outputs": [],
   "source": [
    "df_ads_data_insights['date_start'] = pd.to_datetime(df_ads_data_insights['date_start'])\n",
    "df_ads_data_insights = df_ads_data_insights.sort_values(by='date_start')\n",
    "df_ads_data_insights['year'] = df_ads_data_insights['date_start'].dt.year\n",
    "df_ads_data_insights['month'] = df_ads_data_insights['date_start'].dt.month\n",
    "df_ads_data_insights['day'] = df_ads_data_insights['date_start'].dt.day"
   ]
  },
  {
   "cell_type": "code",
   "execution_count": null,
   "id": "9607468c-b024-465e-a16b-318afb9f96a6",
   "metadata": {},
   "outputs": [],
   "source": [
    "#valor de compra\n",
    "df_ads_data_insights['purchase_value'] = df_ads_data_insights['purchase_roas'] * df_ads_data_insights['spend']\n",
    "errors = df_ads_data_insights.query(\"purchase_value >= 8999\").index\n",
    "df_ads_data_insights.drop(errors, inplace=True)\n",
    "df_ads_data_insights.reset_index(inplace=True, drop=True)"
   ]
  },
  {
   "cell_type": "code",
   "execution_count": null,
   "id": "e55849dc-629a-467f-9311-42e3eede7b7b",
   "metadata": {},
   "outputs": [],
   "source": [
    "df_temperatura = pd.read_csv('adsets_temp.csv', sep=',')\n",
    "df_ads_data_insights = pd.merge(df_ads_data_insights, df_temperatura, how='left',left_on=['adset_name'],right_on=['ADSET'])"
   ]
  },
  {
   "cell_type": "code",
   "execution_count": null,
   "id": "befab619-9a6f-4cba-b8a8-56629135a05f",
   "metadata": {},
   "outputs": [],
   "source": [
    "df_ads_data_insights[df_ads_data_insights['TEMPERATURA'].isna()]['name'].unique()"
   ]
  },
  {
   "cell_type": "code",
   "execution_count": null,
   "id": "ac6b4e7b-9b30-49e2-9889-806518938072",
   "metadata": {},
   "outputs": [],
   "source": [
    "df = df.append(df_ads_data_insights)\n",
    "df.reset_index(drop=True, inplace=True)\n",
    "df['date_start'] = pd.to_datetime(df['date_start'])\n",
    "df['date_stop'] = pd.to_datetime(df['date_stop'])"
   ]
  },
  {
   "cell_type": "code",
   "execution_count": null,
   "id": "dc763e8b-1335-4a53-ad4d-d4ae25f44039",
   "metadata": {},
   "outputs": [],
   "source": [
    "#dados acumulados por campanha\n",
    "df['purchase_acc'] = df.groupby(['name','adset_name'])['purchase'].cumsum()\n",
    "df['spend_acc'] = df.groupby(['name','adset_name'])['spend'].cumsum()\n",
    "df['cpa'] = df['spend'] / df['purchase']\n",
    "df['cpa_acc'] = df['spend_acc'] / df['purchase_acc']\n",
    "\n",
    "df['purchase_value_acc'] = df.groupby(['name','adset_name'])['purchase_value'].cumsum()\n",
    "df['purchase_roas_acc'] = df['purchase_value_acc'] / df['spend_acc']\n",
    "\n",
    "df['clicks_acc'] = df.groupby(['name','adset_name'])['clicks'].cumsum()\n",
    "df['impressions_acc'] = df.groupby(['name','adset_name'])['impressions'].cumsum()\n",
    "df['reach_acc'] = df.groupby(['name','adset_name'])['reach'].cumsum()\n",
    "df['frequency_acc'] = df['impressions_acc'] / df['reach_acc']\n",
    "df['cpc_acc'] = df['spend_acc'] / df['clicks_acc']\n",
    "df['cpm_acc'] = (df['spend_acc'] / df['impressions_acc']) * 1000\n",
    "df['ctr_acc'] = df['clicks_acc'] / df['impressions_acc'] * 100\n",
    "\n",
    "df.replace([np.inf, -np.inf], 0, inplace=True)\n",
    "\n",
    "df['video_25_acc'] = df.groupby(['name','adset_name'])['video_25'].cumsum()\n",
    "df['video_50_acc'] = df.groupby(['name','adset_name'])['video_50'].cumsum()\n",
    "df['video_75_acc'] = df.groupby(['name','adset_name'])['video_75'].cumsum()"
   ]
  },
  {
   "cell_type": "code",
   "execution_count": null,
   "id": "8eb220c0-f5cf-4229-87cf-de55bd8e7457",
   "metadata": {},
   "outputs": [],
   "source": [
    "df.to_csv('ads_link_click.csv', sep=';', index=False, decimal='.')"
   ]
  }
 ],
 "metadata": {
  "kernelspec": {
   "display_name": "Python 3 (ipykernel)",
   "language": "python",
   "name": "python3"
  },
  "language_info": {
   "codemirror_mode": {
    "name": "ipython",
    "version": 3
   },
   "file_extension": ".py",
   "mimetype": "text/x-python",
   "name": "python",
   "nbconvert_exporter": "python",
   "pygments_lexer": "ipython3",
   "version": "3.9.7"
  }
 },
 "nbformat": 4,
 "nbformat_minor": 5
}
