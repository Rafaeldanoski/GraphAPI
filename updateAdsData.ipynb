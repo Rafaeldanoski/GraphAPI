{
 "cells": [
  {
   "cell_type": "markdown",
   "id": "30c9da1e-97e3-4172-b10b-ebcf9944e46c",
   "metadata": {
    "tags": []
   },
   "source": [
    "# Imports"
   ]
  },
  {
   "cell_type": "code",
   "execution_count": 1,
   "id": "9f52dcea-994e-4d99-9b8b-f502afe9a043",
   "metadata": {},
   "outputs": [],
   "source": [
    "import pandas as pd\n",
    "import numpy as np\n",
    "from datetime import datetime, timedelta\n",
    "import time\n",
    "import warnings\n",
    "warnings.filterwarnings(\"ignore\")\n",
    "\n",
    "import seaborn as sns\n",
    "import matplotlib.pyplot as plt\n",
    "\n",
    "from graph_api import *"
   ]
  },
  {
   "cell_type": "markdown",
   "id": "5876dcec-3aea-4fb8-9ad5-1951423f467d",
   "metadata": {},
   "source": [
    "# API"
   ]
  },
  {
   "cell_type": "code",
   "execution_count": 2,
   "id": "4e1128d5-d1d4-4399-bb76-d7d59136d653",
   "metadata": {},
   "outputs": [],
   "source": [
    "fb_api = open(\"tokens/fb_token\").read()\n",
    "ad_acc = \"3120164588217844\"\n",
    "\n",
    "graph = GraphAPI(ad_acc, fb_api)"
   ]
  },
  {
   "cell_type": "markdown",
   "id": "eadd4483-454f-4477-9056-234491a3b9f6",
   "metadata": {
    "tags": []
   },
   "source": [
    "# Carregando o dataset"
   ]
  },
  {
   "cell_type": "code",
   "execution_count": 3,
   "id": "ea4e14e6-bae1-473b-9b9e-fd5170a4142b",
   "metadata": {},
   "outputs": [],
   "source": [
    "df = pd.read_csv('ads_full.csv', sep=';')"
   ]
  },
  {
   "cell_type": "code",
   "execution_count": 4,
   "id": "3f561d90-2f7a-4cb3-800b-5b860fa7fa41",
   "metadata": {},
   "outputs": [],
   "source": [
    "df_ads = pd.DataFrame()"
   ]
  },
  {
   "cell_type": "code",
   "execution_count": 7,
   "id": "84749e5a-70fa-4597-a31d-7b8fc9c850b0",
   "metadata": {},
   "outputs": [
    {
     "name": "stdout",
     "output_type": "stream",
     "text": [
      "0\n"
     ]
    }
   ],
   "source": [
    "d = (datetime.today() - pd.to_datetime(df['date_start'].max())).days\n",
    "if d >= 2:\n",
    "    for i in range(d-1):\n",
    "        while True:\n",
    "            try:\n",
    "                df_temp = graph.get_ads_status(since_until=[(datetime.today() - timedelta(days=i+1)).strftime(\"%Y-%m-%d\"),(datetime.today() - timedelta(days=i+1)).strftime(\"%Y-%m-%d\")], increment=1, process=1, filter='GREATER_THAN', impressions=50000, effective_status=['CAMPAIGN_PAUSED'])\n",
    "                #df_temp2 = graph.get_ads_status(since_until=[(datetime.today()  - timedelta(days=i+1)).strftime(\"%Y-%m-%d\"),(datetime.today() - timedelta(days=i+1)).strftime(\"%Y-%m-%d\")], increment=1, process=1, filter='LESS_THAN_OR_EQUAL', impressions=50000, effective_status=['CAMPAIGN_PAUSED'])\n",
    "                #df_temp3 = graph.get_ads_status(since_until=[(datetime.today() - timedelta(days=i+1)).strftime(\"%Y-%m-%d\"),(datetime.today() - timedelta(days=i+1)).strftime(\"%Y-%m-%d\")], increment=1, process=1, filter='GREATER_THAN', impressions=0, effective_status=['PAUSED','ACTIVE','ADSET_PAUSED'])\n",
    "                df_ads = df_ads.append(df_temp)\n",
    "                #df_ads = df_ads.append(df_temp2)\n",
    "                #df_ads = df_ads.append(df_temp3)\n",
    "                print(i)\n",
    "                break\n",
    "            except:\n",
    "                time.sleep(30)\n",
    "                print('erro',i)"
   ]
  },
  {
   "cell_type": "code",
   "execution_count": 8,
   "id": "ada31a71-e1b7-4c9f-88b3-16a1708ff493",
   "metadata": {},
   "outputs": [],
   "source": [
    "df_ads = df_ads[df_ads['insights'].notna()].reset_index(drop=True)"
   ]
  },
  {
   "cell_type": "code",
   "execution_count": 9,
   "id": "c13e18b5-c34f-4c58-92bf-3517a677d5d9",
   "metadata": {},
   "outputs": [],
   "source": [
    "df_ads_data_insights = pd.DataFrame()"
   ]
  },
  {
   "cell_type": "code",
   "execution_count": 10,
   "id": "10deb0fb-87aa-4442-8b3a-56a22929d6d3",
   "metadata": {},
   "outputs": [],
   "source": [
    "df4 = pd.DataFrame({'name':None}, index=[0])\n",
    "\n",
    "#df2 = pd.DataFrame({'name':[None],'product':[None],'type':[None],'date_start':[None],'date_stop':[None],'spend':[None]})\n",
    "for i in range(len(df_ads)):\n",
    "    for j in range(len(df_ads['insights'][i]['data'])):\n",
    "        df4['name'] = df_ads['name'][i]\n",
    "        df4['status'] = df_ads['status'][i]\n",
    "        df4['product'] = df_ads['product'][i]\n",
    "        df4['kind'] = df_ads['kind'][i]\n",
    "        df4['objective'] = df_ads['objective'][i]\n",
    "        df4['adset_name'] = df_ads['adset_name'][i]\n",
    "        df4['insta_link'] = df_ads['insta_link'][i]\n",
    "        df4['thumb_link'] = df_ads['thumb_link'][i]\n",
    "        df4['date_start'] = df_ads['insights'][i]['data'][j]['date_start']\n",
    "        df4['date_stop'] = df_ads['insights'][i]['data'][j]['date_stop']\n",
    "        df4['spend'] = float(df_ads['insights'][i]['data'][j]['spend'])\n",
    "        df4['clicks'] = int(df_ads['insights'][i]['data'][j]['clicks'])\n",
    "        df4['impressions'] = int(df_ads['insights'][i]['data'][j]['impressions'])\n",
    "        df4['frequency'] = float(df_ads['insights'][i]['data'][j]['frequency'])\n",
    "        df4['reach'] = int(df_ads['insights'][i]['data'][j]['reach'])\n",
    "        df4['ctr'] = df_ads['insights'][i]['data'][j].get('ctr') if df_ads['insights'][i]['data'][j].get('ctr') is None else float(df_ads['insights'][i]['data'][j].get('ctr'))\n",
    "        df4['cpc'] = df_ads['insights'][i]['data'][j].get('cpc') if df_ads['insights'][i]['data'][j].get('cpc') is None else float(df_ads['insights'][i]['data'][j].get('cpc'))\n",
    "        df4['cpm'] = df_ads['insights'][i]['data'][j].get('cpm') if df_ads['insights'][i]['data'][j].get('cpm') is None else float(df_ads['insights'][i]['data'][j].get('cpm'))\n",
    "        df4['video_25'] = df_ads['insights'][i]['data'][j].get('video_p25_watched_actions') if df_ads['insights'][i]['data'][j].get('video_p25_watched_actions') is None else int(df_ads['insights'][i]['data'][j]['video_p25_watched_actions'][0]['value'])\n",
    "        df4['video_50'] = df_ads['insights'][i]['data'][j].get('video_p50_watched_actions') if df_ads['insights'][i]['data'][j].get('video_p50_watched_actions') is None else int(df_ads['insights'][i]['data'][j]['video_p50_watched_actions'][0]['value'])\n",
    "        df4['video_75'] = df_ads['insights'][i]['data'][j].get('video_p75_watched_actions') if df_ads['insights'][i]['data'][j].get('video_p75_watched_actions') is None else int(df_ads['insights'][i]['data'][j]['video_p75_watched_actions'][0]['value'])\n",
    "        \n",
    "        try:\n",
    "            x = df_ads['insights'][i]['data'][j]['actions'].index({'action_type': 'purchase', 'value': '1'})\n",
    "            df4['purchase'] = int(df_ads['insights'][i]['data'][j]['actions'][x]['value'])\n",
    "            df4['purchase_roas'] = float(df_ads['insights'][i]['data'][j]['purchase_roas'][0]['value'])\n",
    "        except:\n",
    "            df4['purchase'] = 0\n",
    "            df4['purchase_roas'] = 0\n",
    "            \n",
    "        for k in range(len(df_ads['targetingsentencelines'][i]['targetingsentencelines'])):\n",
    "            try:\n",
    "                col = df_ads['targetingsentencelines'][i]['targetingsentencelines'][k]['content']\n",
    "                row = df_ads['targetingsentencelines'][i]['targetingsentencelines'][k]['children']\n",
    "                df4[col] = row\n",
    "            except:\n",
    "                df4[col] = 0\n",
    "                \n",
    "        \n",
    "        df_ads_data_insights = df_ads_data_insights.append(df4)\n",
    "        \n",
    "df_ads_data_insights.reset_index(drop=True, inplace=True)\n",
    "\n",
    "for i in range(len(df_ads_data_insights['Posicionamentos:'])):\n",
    "    df_ads_data_insights['Posicionamentos:'][i] = df_ads_data_insights['Posicionamentos:'][i].split(',')"
   ]
  },
  {
   "cell_type": "code",
   "execution_count": 11,
   "id": "def90d0d-c276-4fae-8edd-f5e21ac3f01e",
   "metadata": {},
   "outputs": [],
   "source": [
    "df_ads_data_insights['date_start'] = pd.to_datetime(df_ads_data_insights['date_start'])\n",
    "df_ads_data_insights = df_ads_data_insights.sort_values(by='date_start')\n",
    "df_ads_data_insights['year'] = df_ads_data_insights['date_start'].dt.month\n",
    "df_ads_data_insights['month'] = df_ads_data_insights['date_start'].dt.month\n",
    "df_ads_data_insights['day'] = df_ads_data_insights['date_start'].dt.day"
   ]
  },
  {
   "cell_type": "code",
   "execution_count": 12,
   "id": "9ac6dc2f-ff8a-41f3-93e3-abbde0495d5d",
   "metadata": {},
   "outputs": [],
   "source": [
    "#valor de compra\n",
    "df_ads_data_insights['purchase_value'] = df_ads_data_insights['purchase_roas'] * df_ads_data_insights['spend']\n",
    "errors = df_ads_data_insights.query(\"purchase_value >= 8999\").index\n",
    "df_ads_data_insights.drop(errors, inplace=True)\n",
    "df_ads_data_insights.reset_index(inplace=True, drop=True)"
   ]
  },
  {
   "cell_type": "code",
   "execution_count": 13,
   "id": "959de52c-5483-4c5b-99f0-819b0e7ef7bb",
   "metadata": {},
   "outputs": [],
   "source": [
    "df_temperatura = pd.read_csv('adsets_temp.csv', sep=',')\n",
    "df_ads_data_insights = pd.merge(df_ads_data_insights, df_temperatura, how='left',left_on=['adset_name'],right_on=['ADSET'])"
   ]
  },
  {
   "cell_type": "code",
   "execution_count": 14,
   "id": "944c8a56-29bc-48f3-b137-f843ccffc9cf",
   "metadata": {},
   "outputs": [
    {
     "data": {
      "text/plain": [
       "array([], dtype=object)"
      ]
     },
     "execution_count": 14,
     "metadata": {},
     "output_type": "execute_result"
    }
   ],
   "source": [
    "df_ads_data_insights[df_ads_data_insights['TEMPERATURA'].isna()]['adset_name'].unique()"
   ]
  },
  {
   "cell_type": "code",
   "execution_count": 15,
   "id": "b9421311-5dfc-4f17-8343-e70bcf78ff82",
   "metadata": {},
   "outputs": [],
   "source": [
    "df = df.append(df_ads_data_insights)\n",
    "df.reset_index(drop=True, inplace=True)\n",
    "df['date_start'] = pd.to_datetime(df['date_start'])\n",
    "df['date_stop'] = pd.to_datetime(df['date_stop'])"
   ]
  },
  {
   "cell_type": "code",
   "execution_count": 16,
   "id": "6abf195f-f4f3-4e31-8515-7d523e50902e",
   "metadata": {},
   "outputs": [],
   "source": [
    "#dados acumulados por campanha\n",
    "df['purchase_acc'] = df.groupby(['name','adset_name'])['purchase'].cumsum()\n",
    "df['spend_acc'] = df.groupby(['name','adset_name'])['spend'].cumsum()\n",
    "df['cpa'] = df['spend'] / df['purchase']\n",
    "df['cpa_acc'] = df['spend_acc'] / df['purchase_acc']\n",
    "\n",
    "df['purchase_value_acc'] = df.groupby(['name','adset_name'])['purchase_value'].cumsum()\n",
    "df['purchase_roas_acc'] = df['purchase_value_acc'] / df['spend_acc']\n",
    "\n",
    "df['clicks_acc'] = df.groupby(['name','adset_name'])['clicks'].cumsum()\n",
    "df['impressions_acc'] = df.groupby(['name','adset_name'])['impressions'].cumsum()\n",
    "df['reach_acc'] = df.groupby(['name','adset_name'])['reach'].cumsum()\n",
    "df['frequency_acc'] = df['impressions_acc'] / df['reach_acc']\n",
    "df['cpc_acc'] = df['spend_acc'] / df['clicks_acc']\n",
    "df['cpm_acc'] = (df['spend_acc'] / df['impressions_acc']) * 1000\n",
    "df['ctr_acc'] = df['clicks_acc'] / df['impressions_acc'] * 100\n",
    "\n",
    "df.replace([np.inf, -np.inf], 0, inplace=True)\n",
    "\n",
    "df['video_25_acc'] = df.groupby(['name','adset_name'])['video_25'].cumsum()\n",
    "df['video_50_acc'] = df.groupby(['name','adset_name'])['video_50'].cumsum()\n",
    "df['video_75_acc'] = df.groupby(['name','adset_name'])['video_75'].cumsum()"
   ]
  },
  {
   "cell_type": "code",
   "execution_count": 17,
   "id": "f85423b6-dc4a-410d-bd79-4b0f3cef243b",
   "metadata": {},
   "outputs": [],
   "source": [
    "df.to_csv('ads_full.csv', sep=';', index=False, decimal='.')"
   ]
  },
  {
   "cell_type": "code",
   "execution_count": null,
   "id": "4ace8d36-2965-40b6-be74-239474897023",
   "metadata": {},
   "outputs": [],
   "source": []
  }
 ],
 "metadata": {
  "kernelspec": {
   "display_name": "Python 3 (ipykernel)",
   "language": "python",
   "name": "python3"
  },
  "language_info": {
   "codemirror_mode": {
    "name": "ipython",
    "version": 3
   },
   "file_extension": ".py",
   "mimetype": "text/x-python",
   "name": "python",
   "nbconvert_exporter": "python",
   "pygments_lexer": "ipython3",
   "version": "3.9.7"
  },
  "toc-showtags": false
 },
 "nbformat": 4,
 "nbformat_minor": 5
}
