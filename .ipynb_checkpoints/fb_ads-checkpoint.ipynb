{
 "cells": [
  {
   "cell_type": "markdown",
   "id": "f30f5f9b-be36-4464-b8da-968e8d09c92e",
   "metadata": {},
   "source": [
    "## De - Para\n",
    "\n",
    "**Geral**\n",
    "- **spend** - Gasto\n",
    "- **cpm** - CPM\n",
    "- **ctr** - CTR\n",
    "- **reach** - Alcance\n",
    "- **impressions** - Impressões\n",
    "\n",
    "**Descoberta**\n",
    "- **post_reaction** - Reações\n",
    "- **post_engagement** - Engajamentos com a publicação\n",
    "- **video_p25_watched_actions** - 25% Video View\n",
    "- **video_p50_watched_actions** - 50% Video View\n",
    "- **video_p75_watched_actions** - 75% Video View\n",
    "- **page_engagement** - Engajamento com a página\n",
    "\n",
    "\n",
    "**Conversão**\n",
    "- **offsite_conversion.fb_pixel_add_to_cart** - add_to_cart\n",
    "- **offsite_conversion.fb_pixel_purchase** - Compra\n",
    "- **purchase** - Compra\n",
    "- **cost_per_unique_click** - CPC\n",
    "- **omni_initiated_checkout** - Initiate Checkout\n",
    "- **frequency** - Frequência\n",
    "- **clicks** - Cliques"
   ]
  },
  {
   "cell_type": "markdown",
   "id": "064b5745-a791-4139-9a64-beaa003173e6",
   "metadata": {
    "tags": []
   },
   "source": [
    "### Imports"
   ]
  },
  {
   "cell_type": "code",
   "execution_count": 1,
   "id": "3a351c24-ee53-49cc-8672-83e459d09e2a",
   "metadata": {},
   "outputs": [],
   "source": [
    "from graph_api import *\n",
    "\n",
    "import warnings\n",
    "warnings.filterwarnings(\"ignore\")\n",
    "\n",
    "import pandas as pd\n",
    "import numpy as np\n",
    "from datetime import datetime, timedelta\n",
    "import copy\n",
    "import time\n",
    "\n",
    "import seaborn as sns\n",
    "import matplotlib.pyplot as plt"
   ]
  },
  {
   "cell_type": "markdown",
   "id": "6ad591b8-8774-40c7-9b07-1e547b5ce25e",
   "metadata": {
    "tags": []
   },
   "source": [
    "### Conectando API"
   ]
  },
  {
   "cell_type": "code",
   "execution_count": 2,
   "id": "5eaa9f79-4c46-4afd-98b2-a3001567beec",
   "metadata": {},
   "outputs": [],
   "source": [
    "fb_api = open(\"tokens/fb_token\").read()\n",
    "ad_acc = \"3120164588217844\"\n",
    "\n",
    "graph = GraphAPI(ad_acc, fb_api)"
   ]
  },
  {
   "cell_type": "markdown",
   "id": "d634d52a-3be8-4d05-94a7-828bb5b3b8a5",
   "metadata": {
    "jp-MarkdownHeadingCollapsed": true,
    "tags": []
   },
   "source": [
    "## Resumo de funções"
   ]
  },
  {
   "cell_type": "markdown",
   "id": "88a4e1be-bfbc-43f2-9a95-590ca3165450",
   "metadata": {
    "jp-MarkdownHeadingCollapsed": true,
    "tags": []
   },
   "source": [
    "### 1. Leitura de dados"
   ]
  },
  {
   "cell_type": "markdown",
   "id": "2c47195a-4278-4573-b657-1bd8981056dc",
   "metadata": {
    "jp-MarkdownHeadingCollapsed": true,
    "tags": []
   },
   "source": [
    "#### 1.1. Campanhas"
   ]
  },
  {
   "cell_type": "code",
   "execution_count": null,
   "id": "9dafdddf-db23-4b2f-99b8-27661b792a2e",
   "metadata": {},
   "outputs": [],
   "source": [
    "# Leitura de dados de campanhas\n",
    "df_campaigns = graph.get_campaigns_status(date_preset='last_7d', increment=1, process=1).reset_index(drop=True)\n",
    "\n",
    "# Alternativa de leitura, usando o parâmetro since_until\n",
    "# df_campaigns_m = graph.get_campaigns_status(since_until=['2022-08-01', datetime.today().strftime(\"%Y-%m-%d\")])"
   ]
  },
  {
   "cell_type": "code",
   "execution_count": null,
   "id": "6795df4d-8049-4a13-9253-d348a1be7f92",
   "metadata": {},
   "outputs": [],
   "source": [
    "df_campaigns.head()"
   ]
  },
  {
   "cell_type": "code",
   "execution_count": null,
   "id": "f0eca9b6-7c85-430f-8852-63effa3a6ecd",
   "metadata": {},
   "outputs": [],
   "source": [
    "len(df_campaigns)"
   ]
  },
  {
   "cell_type": "code",
   "execution_count": null,
   "id": "5d3c5c1c-983f-4c4f-91c7-e4ee38399688",
   "metadata": {},
   "outputs": [],
   "source": [
    "# Filtrando para campanhas ativas e que tiveram alguma veiculação no período\n",
    "df_camp_act = df_campaigns[df_campaigns[\"status\"] == \"ACTIVE\"].reset_index(drop=True)\n",
    "df_camp = df_campaigns[df_campaigns['insights'].notna()].reset_index(drop=True)"
   ]
  },
  {
   "cell_type": "code",
   "execution_count": null,
   "id": "0222c5d6-ea4f-4397-851f-0c6cdf51f3ad",
   "metadata": {},
   "outputs": [],
   "source": [
    "df_camp_act.head()"
   ]
  },
  {
   "cell_type": "code",
   "execution_count": null,
   "id": "c5b1cf47-241a-471f-8815-ffdc416e8263",
   "metadata": {},
   "outputs": [],
   "source": [
    "len(df_camp_act)"
   ]
  },
  {
   "cell_type": "code",
   "execution_count": null,
   "id": "76921080-cd4b-40cd-91bb-98e625659058",
   "metadata": {},
   "outputs": [],
   "source": [
    "df_camp.head()"
   ]
  },
  {
   "cell_type": "code",
   "execution_count": null,
   "id": "1b599399-a57e-4788-82f3-11c2513019bb",
   "metadata": {},
   "outputs": [],
   "source": [
    "len(df_camp)"
   ]
  },
  {
   "cell_type": "markdown",
   "id": "87845f30-b5c5-490c-9deb-d13aabfddec5",
   "metadata": {
    "jp-MarkdownHeadingCollapsed": true,
    "tags": []
   },
   "source": [
    "#### 1.2. Adsets"
   ]
  },
  {
   "cell_type": "code",
   "execution_count": null,
   "id": "e1ab0941-3603-4ecd-a347-a0f8420d6845",
   "metadata": {},
   "outputs": [],
   "source": [
    "# Leitura de dados de Adsets\n",
    "df_adsets = graph.get_adset_status(date_preset='last_7d', increment=1, process=1).reset_index(drop=True) # since_until=['2022-08-15', '2022-08-30']\n",
    "\n",
    "df_adsets_act = df_adsets[df_adsets[\"status\"] == \"ACTIVE\"].reset_index(drop=True)\n",
    "df_adsets_data = df_adsets[df_adsets['insights'].notna()].reset_index(drop=True)"
   ]
  },
  {
   "cell_type": "code",
   "execution_count": null,
   "id": "0aa83bd9-1e79-4b2b-8508-97d6120906b1",
   "metadata": {
    "tags": []
   },
   "outputs": [],
   "source": [
    "df_adsets.head()"
   ]
  },
  {
   "cell_type": "code",
   "execution_count": null,
   "id": "4db037a4-aea3-4024-81b8-6288820abe44",
   "metadata": {},
   "outputs": [],
   "source": [
    "len(df_adsets)"
   ]
  },
  {
   "cell_type": "code",
   "execution_count": null,
   "id": "da1d5f39-5c3d-426c-ba2c-1c4f28ebb979",
   "metadata": {},
   "outputs": [],
   "source": [
    "df_adsets_act.head()"
   ]
  },
  {
   "cell_type": "code",
   "execution_count": null,
   "id": "38b3fbed-3fe7-488b-8c52-39c5d3c1908d",
   "metadata": {},
   "outputs": [],
   "source": [
    "len(df_adsets_act)"
   ]
  },
  {
   "cell_type": "code",
   "execution_count": null,
   "id": "c68ec7f2-568e-4a81-be0c-6374efc56053",
   "metadata": {},
   "outputs": [],
   "source": [
    "df_adsets_data.head()"
   ]
  },
  {
   "cell_type": "code",
   "execution_count": null,
   "id": "166f3a71-34da-4837-88b9-0da29715b0ad",
   "metadata": {},
   "outputs": [],
   "source": [
    "len(df_adsets_data)"
   ]
  },
  {
   "cell_type": "markdown",
   "id": "fb5f047f-9e19-4c71-9d12-4b980e86c4d5",
   "metadata": {
    "jp-MarkdownHeadingCollapsed": true,
    "tags": []
   },
   "source": [
    "#### 1.3. Ads"
   ]
  },
  {
   "cell_type": "code",
   "execution_count": null,
   "id": "e1c23de4-5424-4775-8744-d2a45c5429eb",
   "metadata": {},
   "outputs": [],
   "source": [
    "df_ads = graph.get_ads_status(since_until=[datetime.today().strftime(\"%Y-%m-%d\"),datetime.today().strftime(\"%Y-%m-%d\")], increment=1, process=1).reset_index(drop=True)"
   ]
  },
  {
   "cell_type": "code",
   "execution_count": null,
   "id": "f4ec2df2-8b8c-4381-bfef-f48295ac8ace",
   "metadata": {},
   "outputs": [],
   "source": [
    "df_ads_act = df_ads[df_ads[\"status\"] == \"ACTIVE\"].reset_index(drop=True)\n",
    "df_ads_data = df_ads[df_ads['insights'].notna()].reset_index(drop=True)"
   ]
  },
  {
   "cell_type": "code",
   "execution_count": null,
   "id": "dfc77417-243d-415a-bc29-56ee928b87d1",
   "metadata": {
    "scrolled": true,
    "tags": []
   },
   "outputs": [],
   "source": [
    "df_ads.head()"
   ]
  },
  {
   "cell_type": "code",
   "execution_count": null,
   "id": "33800705-8dcf-4c5a-9f17-fe4e68b82fa2",
   "metadata": {},
   "outputs": [],
   "source": [
    "len(df_ads)"
   ]
  },
  {
   "cell_type": "code",
   "execution_count": null,
   "id": "f1e8aebc-3235-4652-a0a9-c12aa629ccaf",
   "metadata": {},
   "outputs": [],
   "source": [
    "df_ads_act.head()"
   ]
  },
  {
   "cell_type": "code",
   "execution_count": null,
   "id": "fa5195b9-7b36-497b-b11d-b5831bcb5866",
   "metadata": {
    "tags": []
   },
   "outputs": [],
   "source": [
    "len(df_ads_act)"
   ]
  },
  {
   "cell_type": "code",
   "execution_count": null,
   "id": "9f410c12-21f2-4280-85d7-caa2317a9f0c",
   "metadata": {},
   "outputs": [],
   "source": [
    "df_ads_data.head()"
   ]
  },
  {
   "cell_type": "code",
   "execution_count": null,
   "id": "bd7913e7-d81c-4253-80e7-6df2d826bafc",
   "metadata": {},
   "outputs": [],
   "source": [
    "len(df_ads_data)"
   ]
  },
  {
   "cell_type": "markdown",
   "id": "15607194-14dd-4e95-9dd0-79ba7cfb5f2f",
   "metadata": {
    "jp-MarkdownHeadingCollapsed": true,
    "tags": []
   },
   "source": [
    "## 2. Reports"
   ]
  },
  {
   "cell_type": "code",
   "execution_count": null,
   "id": "b3fddd62-b69f-490c-8b7d-f1596721e36f",
   "metadata": {},
   "outputs": [],
   "source": [
    "products = [\"ml\", \"dip\",\"aut\",\"black22\"]"
   ]
  },
  {
   "cell_type": "code",
   "execution_count": null,
   "id": "11fc928f-c658-4236-99c9-1485477ece59",
   "metadata": {},
   "outputs": [],
   "source": [
    "# Carrega estatísticas de campanhas agrupadas\n",
    "df_ = graph.campaigns_report(df_camp, products, stats=['spend', 'ctr', 'purchase'], kinds=[\"CONVERSÃO\", \"ESCALA\", \"REMARKETING\", \"CAPTAÇAO\"]) #<- Adicionar pivot\n",
    "# df_.pivot_table(index=[\"product\", \"kind\", \"campaign\"])\n",
    "df_"
   ]
  },
  {
   "cell_type": "code",
   "execution_count": null,
   "id": "02437f23-d680-46fe-ab79-494ac6b9b3f5",
   "metadata": {},
   "outputs": [],
   "source": [
    "graph.adsets_report(df_adsets_data, df_camp, products, stats=['ctr', 'spend'], campaigns='CONVERSÃO', adsets_with='')"
   ]
  },
  {
   "cell_type": "markdown",
   "id": "074dd4dd-5470-4941-8130-93aab05c88ac",
   "metadata": {
    "jp-MarkdownHeadingCollapsed": true,
    "tags": []
   },
   "source": [
    "## 3. Insights over time"
   ]
  },
  {
   "cell_type": "code",
   "execution_count": null,
   "id": "c6def2ef-99f9-4ce6-a493-3ce99e497c10",
   "metadata": {},
   "outputs": [],
   "source": [
    "# Também é possível fazer a leitura dos dados por período, sem organizar informações\n",
    "graph.process_insights(df_camp, 'spend', products=['ML'], kinds=[\"CONVERSÃO\"])"
   ]
  },
  {
   "cell_type": "code",
   "execution_count": null,
   "id": "cbe8ecf7-6bc2-4c5e-8c69-d9e6c70e9bc1",
   "metadata": {},
   "outputs": [],
   "source": [
    "# Também é possível fazer a leitura dos dados por período, sem organizar informações\n",
    "graph.process_insights(df_adsets_data, 'purchase', products=['ML'], kinds=[\"REMARKETING\"])"
   ]
  },
  {
   "cell_type": "markdown",
   "id": "83cf4c6d-b172-4ce7-a694-0488fad88fed",
   "metadata": {
    "jp-MarkdownHeadingCollapsed": true,
    "tags": []
   },
   "source": [
    "## 4. Análise Exploratória"
   ]
  },
  {
   "cell_type": "markdown",
   "id": "32610e94-d653-407a-a29e-decaa4765938",
   "metadata": {
    "jp-MarkdownHeadingCollapsed": true,
    "tags": []
   },
   "source": [
    "### 4.1. Quantidade por produto e tipo"
   ]
  },
  {
   "cell_type": "code",
   "execution_count": null,
   "id": "b7634cb0-fbe3-45a8-9033-0611eda9f8a8",
   "metadata": {},
   "outputs": [],
   "source": [
    "# Quantidade de campanhas por produto e tipo\n",
    "df_camp.groupby(['product','kind']).agg({'name':'count'}).sort_values(by=['product','name'], ascending=False)"
   ]
  },
  {
   "cell_type": "code",
   "execution_count": null,
   "id": "fed14eb4-ce7c-4f2a-81de-8824457705d0",
   "metadata": {},
   "outputs": [],
   "source": [
    "plt.figure(figsize=(12,6))\n",
    "plt.title(\"Quantidade de campanhas por produto e tipo\")\n",
    "\n",
    "ax = sns.countplot(data=df_camp, x='product', hue='kind')"
   ]
  },
  {
   "cell_type": "code",
   "execution_count": null,
   "id": "be32e5e0-598e-4bdd-b10e-c83db8839f8e",
   "metadata": {},
   "outputs": [],
   "source": [
    "# Quantidade de asdsets por produto e tipo\n",
    "df_adsets_data.groupby(['product','kind']).agg({'name':'count'}).sort_values(by=['product','name'], ascending=False)"
   ]
  },
  {
   "cell_type": "code",
   "execution_count": null,
   "id": "a36e606f-cdea-4465-8289-24a03fdc742d",
   "metadata": {},
   "outputs": [],
   "source": [
    "plt.figure(figsize=(12,6))\n",
    "plt.title(\"Quantidade de adsets por produto e tipo\")\n",
    "\n",
    "ax = sns.countplot(data=df_adsets_data, x='product', hue='kind')"
   ]
  },
  {
   "cell_type": "code",
   "execution_count": null,
   "id": "72cef1c6-4833-40db-b0a2-0a1fd58f9808",
   "metadata": {},
   "outputs": [],
   "source": [
    "# Quantidade de asds por produto e tipo\n",
    "df_ads_data.groupby(['product','kind']).agg({'name':'count'}).sort_values(by=['product','name'], ascending=False)"
   ]
  },
  {
   "cell_type": "code",
   "execution_count": null,
   "id": "34d4a5f3-5582-434e-90c4-389a9f5ebf81",
   "metadata": {},
   "outputs": [],
   "source": [
    "plt.figure(figsize=(12,6))\n",
    "plt.title(\"Quantidade de ads por produto e tipo\")\n",
    "\n",
    "ax = sns.countplot(data=df_ads_data, x='product', hue='kind')"
   ]
  },
  {
   "cell_type": "markdown",
   "id": "74224c20-baad-43af-ba9d-79902b7d2b04",
   "metadata": {
    "jp-MarkdownHeadingCollapsed": true,
    "tags": []
   },
   "source": [
    "### 4.2. KPI's por campanha e tipo"
   ]
  },
  {
   "cell_type": "code",
   "execution_count": null,
   "id": "80d85882-2e56-48ed-96f7-ec4de2922c96",
   "metadata": {},
   "outputs": [],
   "source": [
    "# KPI's por campanha e tipo\n",
    "df_camp_stats = graph.campaigns_report(df_camp, stats=['spend','cpc','cpm','ctr','reach','purchase_roas'], products=['DIP','ML','AUT','BLACK22'])\n",
    "df_camp_stats"
   ]
  },
  {
   "cell_type": "markdown",
   "id": "d2ab3357-ce84-4015-a105-c23459d72e3f",
   "metadata": {
    "jp-MarkdownHeadingCollapsed": true,
    "tags": []
   },
   "source": [
    "### 4.3. KPI's sobre o tempo por campanha e tipo"
   ]
  },
  {
   "cell_type": "markdown",
   "id": "114a4e85-e0c9-47ed-9b3b-9903dda3f772",
   "metadata": {
    "tags": []
   },
   "source": [
    "#### 4.3.0. Agregando os dados"
   ]
  },
  {
   "cell_type": "code",
   "execution_count": null,
   "id": "35132c0a-c7e1-4399-a18d-84255d1eae16",
   "metadata": {},
   "outputs": [],
   "source": [
    "df_camp['insights'][1]['data'][1]['purchase_roas'][0]['value']"
   ]
  },
  {
   "cell_type": "code",
   "execution_count": null,
   "id": "9c62f16b-975b-46ba-ae95-25f8f957d7b8",
   "metadata": {},
   "outputs": [],
   "source": [
    "df_camp_insights = pd.DataFrame()"
   ]
  },
  {
   "cell_type": "code",
   "execution_count": null,
   "id": "ce8cdec9-0f15-46a5-b255-e72050581621",
   "metadata": {},
   "outputs": [],
   "source": [
    "df2 = pd.DataFrame({'name':None}, index=[0])\n",
    "\n",
    "#df2 = pd.DataFrame({'name':[None],'product':[None],'type':[None],'date_start':[None],'date_stop':[None],'spend':[None]})\n",
    "for i in range(len(df_camp)):\n",
    "    for j in range(len(df_camp['insights'][i]['data'])):\n",
    "        df2['name'] = df_camp['name'][i]\n",
    "        df2['status'] = df_camp['status'][i]\n",
    "        df2['product'] = df_camp['product'][i]\n",
    "        df2['kind'] = df_camp['kind'][i]\n",
    "        df2['adsets_amount'] = len(df_camp['adsets'][i]['data'])\n",
    "        df2['date_start'] = pd.to_datetime(df_camp['insights'][i]['data'][j]['date_start'])\n",
    "        df2['date_stop'] = pd.to_datetime(df_camp['insights'][i]['data'][j]['date_stop'])\n",
    "        df2['spend'] = float(df_camp['insights'][i]['data'][j]['spend'])\n",
    "        df2['clicks'] = int(df_camp['insights'][i]['data'][j]['clicks'])\n",
    "        df2['impressions'] = int(df_camp['insights'][i]['data'][j]['impressions'])\n",
    "        df2['ctr'] = df_camp['insights'][i]['data'][j].get('ctr') if df_camp['insights'][i]['data'][j].get('ctr') is None else float(df_camp['insights'][i]['data'][j].get('ctr'))\n",
    "        df2['cpc'] = df_camp['insights'][i]['data'][j].get('cpc') if df_camp['insights'][i]['data'][j].get('cpc') is None else float(df_camp['insights'][i]['data'][j].get('cpc'))\n",
    "        df2['cpm'] = df_camp['insights'][i]['data'][j].get('cpm') if df_camp['insights'][i]['data'][j].get('cpm') is None else float(df_camp['insights'][i]['data'][j].get('cpm'))\n",
    "        df2['video_25'] = df_camp['insights'][i]['data'][j].get('video_p25_watched_actions') if df_camp['insights'][i]['data'][j].get('video_p25_watched_actions') is None else int(df_camp['insights'][i]['data'][j]['video_p25_watched_actions'][0]['value'])\n",
    "        df2['video_50'] = df_camp['insights'][i]['data'][j].get('video_p50_watched_actions') if df_camp['insights'][i]['data'][j].get('video_p50_watched_actions') is None else int(df_camp['insights'][i]['data'][j]['video_p50_watched_actions'][0]['value'])\n",
    "        df2['video_75'] = df_camp['insights'][i]['data'][j].get('video_p75_watched_actions') if df_camp['insights'][i]['data'][j].get('video_p75_watched_actions') is None else int(df_camp['insights'][i]['data'][j]['video_p75_watched_actions'][0]['value'])\n",
    "        \n",
    "        try:\n",
    "            x = df_camp['insights'][i]['data'][j]['actions'].index({'action_type': 'purchase', 'value': '1'})\n",
    "            df2['purchase'] = int(df_camp['insights'][i]['data'][j]['actions'][x]['value'])\n",
    "            df2['purchase_roas'] = float(df_camp['insights'][i]['data'][j]['purchase_roas'][0]['value'])\n",
    "        except:\n",
    "            df2['purchase'] = 0\n",
    "            df2['purchase_roas'] = 0\n",
    "        \n",
    "        df_camp_insights = df_camp_insights.append(df2)\n",
    "        \n",
    "df_camp_insights.reset_index(drop=True, inplace=True)"
   ]
  },
  {
   "cell_type": "code",
   "execution_count": null,
   "id": "3c460712-9b97-47f3-b812-58a471661d88",
   "metadata": {},
   "outputs": [],
   "source": [
    "#dados acumulados por campanha\n",
    "df_camp_insights['purchase_acc'] = df_camp_insights.groupby('name')['purchase'].cumsum()\n",
    "df_camp_insights['spend_acc'] = df_camp_insights.groupby('name')['spend'].cumsum()\n",
    "df_camp_insights['cpa'] = df_camp_insights['spend'] / df_camp_insights['purchase']\n",
    "df_camp_insights['cpa_acc'] = df_camp_insights['spend_acc'] / df_camp_insights['purchase_acc']\n",
    "\n",
    "for i in range(len(df_camp_insights)):\n",
    "    if df_camp_insights['purchase'][i] != 0:\n",
    "        df_camp_insights['cpa'][i] = df_camp_insights['spend'][i] / df_camp_insights['purchase'][i]\n",
    "    else:\n",
    "        df_camp_insights['cpa'][i] = df_camp_insights['spend'][i]\n",
    "        \n",
    "for i in range(len(df_camp_insights)):\n",
    "    if df_camp_insights['purchase_acc'][i] != 0:\n",
    "        df_camp_insights['cpa_acc'][i] = df_camp_insights['spend_acc'][i] / df_camp_insights['purchase_acc'][i]\n",
    "    else:\n",
    "        df_camp_insights['cpa_acc'][i] = df_camp_insights['spend_acc'][i]\n",
    "\n",
    "df_camp_insights['purchase_value'] = df_camp_insights['purchase_roas'] * df_camp_insights['spend']\n",
    "df_camp_insights['purchase_value_acc'] = df_camp_insights.groupby('name')['purchase_value'].cumsum()\n",
    "df_camp_insights['purchase_roas_acc'] = df_camp_insights['purchase_value_acc'] / df_camp_insights['spend_acc']\n",
    "                \n",
    "df_camp_insights['clicks_acc'] = df_camp_insights.groupby('name')['clicks'].cumsum()\n",
    "df_camp_insights['impressions_acc'] = df_camp_insights.groupby('name')['impressions'].cumsum()\n",
    "df_camp_insights['cpc_acc'] = df_camp_insights['spend_acc'] / df_camp_insights['clicks_acc']\n",
    "df_camp_insights['cpm_acc'] = (df_camp_insights['spend_acc'] / df_camp_insights['impressions_acc']) * 1000\n",
    "df_camp_insights['ctr_acc'] = df_camp_insights['clicks_acc'] / df_camp_insights['impressions_acc'] * 100 #em %\n",
    "\n",
    "df_camp_insights.replace([np.inf, -np.inf], 0, inplace=True)\n",
    "\n",
    "df_camp_insights['video_25_acc'] = df_camp_insights.groupby('name')['video_25'].cumsum()\n",
    "df_camp_insights['video_50_acc'] = df_camp_insights.groupby('name')['video_50'].cumsum()\n",
    "df_camp_insights['video_75_acc'] = df_camp_insights.groupby('name')['video_75'].cumsum()"
   ]
  },
  {
   "cell_type": "code",
   "execution_count": null,
   "id": "2f341a92-3a3d-425d-a982-2097822b5b79",
   "metadata": {},
   "outputs": [],
   "source": [
    "pd.options.display.max_columns = 99999\n",
    "df_camp_insights.head()"
   ]
  },
  {
   "cell_type": "code",
   "execution_count": null,
   "id": "001308e9-b9e4-4e0b-8f11-bddfdc428333",
   "metadata": {},
   "outputs": [],
   "source": [
    "#filtros\n",
    "product = 'DIP'\n",
    "kind = 'REMARKETING'\n",
    "status = 'ACTIVE'\n",
    "\n",
    "df_filter = df_camp_insights[(df_camp_insights['product']==product) & (df_camp_insights['kind']==kind) & (df_camp_insights['status']==status)]"
   ]
  },
  {
   "cell_type": "markdown",
   "id": "13732461-c7cc-46c7-ad09-ff66168d94c4",
   "metadata": {
    "jp-MarkdownHeadingCollapsed": true,
    "tags": []
   },
   "source": [
    "#### 4.3.1. Spend"
   ]
  },
  {
   "cell_type": "code",
   "execution_count": null,
   "id": "caace7b5-71ef-481f-86b9-8ddf8c34df30",
   "metadata": {},
   "outputs": [],
   "source": [
    "plt.figure(figsize=(12,6))\n",
    "plt.title(\"Gasto x Tempo por campanha\")\n",
    "\n",
    "a = sns.lineplot(x='date_start', y='spend', data=df_filter, ci=None, hue='name')"
   ]
  },
  {
   "cell_type": "code",
   "execution_count": null,
   "id": "b98b3375-6398-434c-aaa8-ced09f69809d",
   "metadata": {},
   "outputs": [],
   "source": [
    "#spend acumulado\n",
    "plt.figure(figsize=(12,6))\n",
    "plt.title(\"Gasto acumulado x Tempo por campanha\")\n",
    "\n",
    "a = sns.lineplot(x='date_start', y='spend_acc', data=df_filter, ci=None, hue='name')"
   ]
  },
  {
   "cell_type": "markdown",
   "id": "6528a9f2-7cb3-43ab-ad03-94d9858d837d",
   "metadata": {
    "jp-MarkdownHeadingCollapsed": true,
    "tags": []
   },
   "source": [
    "#### 4.3.2. CPC"
   ]
  },
  {
   "cell_type": "code",
   "execution_count": null,
   "id": "4b2b3825-0378-4311-9331-5b6f5f91f1d4",
   "metadata": {},
   "outputs": [],
   "source": [
    "plt.figure(figsize=(12,6))\n",
    "plt.title(\"CPC x Tempo por campanha\")\n",
    "\n",
    "a = sns.lineplot(x='date_start', y='cpc', data=df_filter, ci=None, hue='name')"
   ]
  },
  {
   "cell_type": "code",
   "execution_count": null,
   "id": "05fb643c-4324-408d-93d5-abf698bec6ef",
   "metadata": {},
   "outputs": [],
   "source": [
    "#cpc acumulado\n",
    "plt.figure(figsize=(12,6))\n",
    "plt.title(\"CPC acumulado x Tempo por campanha\")\n",
    "\n",
    "a = sns.lineplot(x='date_start', y='cpc_acc', data=df_filter, ci=None, hue='name')"
   ]
  },
  {
   "cell_type": "markdown",
   "id": "e020463c-9fb6-4a70-a450-33e35f5e2f60",
   "metadata": {
    "jp-MarkdownHeadingCollapsed": true,
    "tags": []
   },
   "source": [
    "#### 4.3.3. CPM"
   ]
  },
  {
   "cell_type": "code",
   "execution_count": null,
   "id": "c396ceba-6cb6-44e5-b130-3e9179154d79",
   "metadata": {},
   "outputs": [],
   "source": [
    "plt.figure(figsize=(12,6))\n",
    "plt.title(\"CPM x Tempo por campanha\")\n",
    "\n",
    "a = sns.lineplot(x='date_start', y='cpm', data=df_filter, ci=None, hue='name')"
   ]
  },
  {
   "cell_type": "code",
   "execution_count": null,
   "id": "dc33bfd8-34c7-40c5-9866-6021097c558c",
   "metadata": {},
   "outputs": [],
   "source": [
    "#(spend / impressions) * 1000\n",
    "#cpm acumulado\n",
    "plt.figure(figsize=(12,6))\n",
    "plt.title(\"CPM acumulado x Tempo por campanha\")\n",
    "\n",
    "a = sns.lineplot(x='date_start', y='cpm_acc', data=df_filter, ci=None, hue='name')"
   ]
  },
  {
   "cell_type": "markdown",
   "id": "b7f43335-5ce4-4382-95e6-7a22f22063e4",
   "metadata": {
    "jp-MarkdownHeadingCollapsed": true,
    "tags": []
   },
   "source": [
    "#### 4.3.4. CTR"
   ]
  },
  {
   "cell_type": "code",
   "execution_count": null,
   "id": "a7f88cbc-f3b2-4571-8b5c-e70e2d860cda",
   "metadata": {},
   "outputs": [],
   "source": [
    "plt.figure(figsize=(12,6))\n",
    "plt.title(\"CTR x Tempo por campanha\")\n",
    "\n",
    "a = sns.lineplot(x='date_start', y='ctr', data=df_filter, ci=None, hue='name')"
   ]
  },
  {
   "cell_type": "code",
   "execution_count": null,
   "id": "f78fdb7a-987e-4d77-8f61-c9ca6fd4d423",
   "metadata": {},
   "outputs": [],
   "source": [
    "#clicks / impressions\n",
    "#ctr acumulado\n",
    "plt.figure(figsize=(12,6))\n",
    "plt.title(\"CTR acumulado x Tempo por campanha\")\n",
    "\n",
    "a = sns.lineplot(x='date_start', y='ctr_acc', data=df_filter, ci=None, hue='name')"
   ]
  },
  {
   "cell_type": "markdown",
   "id": "6cae3a81-cfe8-4776-bf93-d22ff80c2221",
   "metadata": {
    "jp-MarkdownHeadingCollapsed": true,
    "tags": []
   },
   "source": [
    "#### 4.3.5. CPA"
   ]
  },
  {
   "cell_type": "code",
   "execution_count": null,
   "id": "7ee19e70-4d96-41ba-9f8f-cf487e5d36d9",
   "metadata": {},
   "outputs": [],
   "source": [
    "plt.figure(figsize=(12,6))\n",
    "plt.title(\"CPA x Tempo por campanha\")\n",
    "\n",
    "a = sns.lineplot(x='date_start', y='cpa', data=df_filter, ci=None, hue='name')"
   ]
  },
  {
   "cell_type": "code",
   "execution_count": null,
   "id": "129c0831-1738-4661-a79d-81c72024f6ae",
   "metadata": {},
   "outputs": [],
   "source": [
    "#cpa acumulado\n",
    "plt.figure(figsize=(12,6))\n",
    "plt.title(\"CPA acumulado x Tempo por campanha\")\n",
    "\n",
    "a = sns.lineplot(x='date_start', y='cpa_acc', data=df_filter, ci=None, hue='name')"
   ]
  },
  {
   "cell_type": "markdown",
   "id": "f926b545-bdf1-42ab-a62d-4b45e99348ae",
   "metadata": {
    "jp-MarkdownHeadingCollapsed": true,
    "tags": []
   },
   "source": [
    "#### 4.3.6. ROAS"
   ]
  },
  {
   "cell_type": "code",
   "execution_count": null,
   "id": "417782bc-1f13-46f6-942b-01566000cadb",
   "metadata": {},
   "outputs": [],
   "source": [
    "plt.figure(figsize=(12,6))\n",
    "plt.title(\"ROAS x Tempo por campanha\")\n",
    "\n",
    "a = sns.lineplot(x='date_start', y='purchase_roas', data=df_filter, ci=None, hue='name')"
   ]
  },
  {
   "cell_type": "code",
   "execution_count": null,
   "id": "9b862677-2c63-41f7-a8b8-b21b9bbd2a30",
   "metadata": {},
   "outputs": [],
   "source": [
    "#roas acumulado\n",
    "plt.figure(figsize=(12,6))\n",
    "plt.title(\"ROAS acumulado x Tempo por campanha\")\n",
    "\n",
    "a = sns.lineplot(x='date_start', y='purchase_roas_acc', data=df_filter, ci=None, hue='name')"
   ]
  },
  {
   "cell_type": "markdown",
   "id": "bbae718f-5190-4fda-bac3-331d506d93c9",
   "metadata": {
    "jp-MarkdownHeadingCollapsed": true,
    "tags": []
   },
   "source": [
    "#### 4.3.7. Video watched"
   ]
  },
  {
   "cell_type": "code",
   "execution_count": null,
   "id": "f761838a-c0d2-42a4-8005-0312e8a68828",
   "metadata": {},
   "outputs": [],
   "source": [
    "plt.figure(figsize=(12,6))\n",
    "plt.title(\"Video-25% x Tempo por campanha\")\n",
    "\n",
    "a = sns.lineplot(x='date_start', y='video_25', data=df_filter, ci=None, hue='name')"
   ]
  },
  {
   "cell_type": "code",
   "execution_count": null,
   "id": "fbd62ba1-f9c2-4111-ab9c-4a6c0c400fff",
   "metadata": {},
   "outputs": [],
   "source": [
    "#video-25 acumulado\n",
    "plt.figure(figsize=(12,6))\n",
    "plt.title(\"Video-25% acumulado x Tempo por campanha\")\n",
    "\n",
    "a = sns.lineplot(x='date_start', y='video_25_acc', data=df_filter, ci=None, hue='name')"
   ]
  },
  {
   "cell_type": "code",
   "execution_count": null,
   "id": "38ae2584-e649-4b52-b3b4-bc5b4866178e",
   "metadata": {},
   "outputs": [],
   "source": [
    "plt.figure(figsize=(12,6))\n",
    "plt.title(\"Video-50% x Tempo por campanha\")\n",
    "\n",
    "a = sns.lineplot(x='date_start', y='video_50', data=df_filter, ci=None, hue='name')"
   ]
  },
  {
   "cell_type": "code",
   "execution_count": null,
   "id": "df887913-cf3e-4b3d-a25d-7b589b2363c4",
   "metadata": {},
   "outputs": [],
   "source": [
    "#video-50 acumulado\n",
    "plt.figure(figsize=(12,6))\n",
    "plt.title(\"Video-50% acumulado x Tempo por campanha\")\n",
    "\n",
    "a = sns.lineplot(x='date_start', y='video_50_acc', data=df_filter, ci=None, hue='name')"
   ]
  },
  {
   "cell_type": "code",
   "execution_count": null,
   "id": "8fc06bb0-fa7c-4e3c-a091-b17d862d6b58",
   "metadata": {},
   "outputs": [],
   "source": [
    "plt.figure(figsize=(12,6))\n",
    "plt.title(\"Video-75% x Tempo por campanha\")\n",
    "\n",
    "a = sns.lineplot(x='date_start', y='video_75', data=df_filter, ci=None, hue='name')"
   ]
  },
  {
   "cell_type": "code",
   "execution_count": null,
   "id": "bda1cde2-5747-410d-87bf-bff952a39647",
   "metadata": {},
   "outputs": [],
   "source": [
    "#video-75 acumulado\n",
    "plt.figure(figsize=(12,6))\n",
    "plt.title(\"Video-75% acumulado x Tempo por campanha\")\n",
    "\n",
    "a = sns.lineplot(x='date_start', y='video_75_acc', data=df_filter, ci=None, hue='name')"
   ]
  },
  {
   "cell_type": "markdown",
   "id": "f5007635-32a7-45bc-89ce-7adf87428152",
   "metadata": {
    "jp-MarkdownHeadingCollapsed": true,
    "tags": []
   },
   "source": [
    "#### Indicadores por quantidade de anúncios"
   ]
  },
  {
   "cell_type": "code",
   "execution_count": null,
   "id": "4daf7488-6fef-4f36-a775-b0902bb175df",
   "metadata": {},
   "outputs": [],
   "source": [
    "plt.figure(figsize=(12,6))\n",
    "plt.title(\"CPC acumulado x Tempo por qtde de anúncio\")\n",
    "\n",
    "a = sns.lineplot(x='date_start', y='cpc_acc', data=df_camp_insights, ci=None, hue='adsets_amount', style='adsets_amount')"
   ]
  },
  {
   "cell_type": "code",
   "execution_count": null,
   "id": "365e9cdd-e452-4d89-9d5c-29789b79722a",
   "metadata": {},
   "outputs": [],
   "source": [
    "plt.figure(figsize=(12,6))\n",
    "plt.title(\"CPM acumulado x Tempo por qtde de anúncio\")\n",
    "\n",
    "a = sns.lineplot(x='date_start', y='cpm_acc', data=df_camp_insights, ci=None, hue='adsets_amount', style='adsets_amount')"
   ]
  },
  {
   "cell_type": "code",
   "execution_count": null,
   "id": "0769ed29-b972-47a1-b21d-d00c998f777b",
   "metadata": {},
   "outputs": [],
   "source": [
    "plt.figure(figsize=(12,6))\n",
    "plt.title(\"CTR acumulado x Tempo por qtde de anúncio\")\n",
    "\n",
    "a = sns.lineplot(x='date_start', y='ctr_acc', data=df_camp_insights, ci=None, hue='adsets_amount', style='adsets_amount')"
   ]
  },
  {
   "cell_type": "markdown",
   "id": "61b4c6ed-a772-4536-82b9-29cee6547e89",
   "metadata": {
    "jp-MarkdownHeadingCollapsed": true,
    "tags": []
   },
   "source": [
    "#### Correlacionando indicadores"
   ]
  },
  {
   "cell_type": "code",
   "execution_count": null,
   "id": "6e0ea2ae-cc50-4222-b418-5dcf58a993f7",
   "metadata": {},
   "outputs": [],
   "source": [
    "df_camp_insights['spend_norm'] = df_camp_insights['spend'] / np.amax(df_camp_insights['spend'], axis=0)\n",
    "df_camp_insights['cpc_norm'] = df_camp_insights['cpc'] / np.amax(df_camp_insights['cpc'], axis=0)\n",
    "df_camp_insights['cpm_norm'] = df_camp_insights['cpm'] / np.amax(df_camp_insights['cpm'], axis=0)\n",
    "df_camp_insights['ctr_norm'] = df_camp_insights['ctr'] / np.amax(df_camp_insights['ctr'], axis=0)"
   ]
  },
  {
   "cell_type": "code",
   "execution_count": null,
   "id": "3b6aa1e9-5ddb-4e04-8d80-91a7ff9c1e74",
   "metadata": {},
   "outputs": [],
   "source": [
    "plt.figure(figsize=(12,6))\n",
    "plt.title(\"KPI's x Tempo por campanha\")\n",
    "\n",
    "#a = sns.lineplot(x='date_start', y='spend_norm', data=df_filter, ci=None)\n",
    "a = sns.lineplot(x='date_start', y='cpc_norm', data=df_filter, ci=None)\n",
    "a = sns.lineplot(x='date_start', y='cpm_norm', data=df_filter, ci=None)\n",
    "a = sns.lineplot(x='date_start', y='ctr_norm', data=df_filter, ci=None)\n",
    "\n",
    "plt.legend(['cpc', 'cpm', 'ctr'])"
   ]
  },
  {
   "cell_type": "markdown",
   "id": "c67ab811-4058-4cf5-a374-7dcf705ccadb",
   "metadata": {
    "tags": []
   },
   "source": [
    "### 4.4. KPI's sobre o tempo por conjunto de anúncio"
   ]
  },
  {
   "cell_type": "markdown",
   "id": "734d9949-9d4d-4443-838a-ed8e422d4e79",
   "metadata": {
    "jp-MarkdownHeadingCollapsed": true,
    "tags": []
   },
   "source": [
    "#### 4.4.0. Agregando os dados"
   ]
  },
  {
   "cell_type": "code",
   "execution_count": null,
   "id": "e11e1df0-969f-4144-bf60-a19e264c8030",
   "metadata": {},
   "outputs": [],
   "source": [
    "df_adsets_data.head()"
   ]
  },
  {
   "cell_type": "code",
   "execution_count": null,
   "id": "7871e5ec-eff3-4d64-b147-94eccb76acad",
   "metadata": {},
   "outputs": [],
   "source": [
    "len(df_adsets_data['ads'][0]['data'])"
   ]
  },
  {
   "cell_type": "code",
   "execution_count": null,
   "id": "9673764a-988f-4f9a-b0ec-bd7df9961840",
   "metadata": {},
   "outputs": [],
   "source": [
    "df_adsets_insights = pd.DataFrame()"
   ]
  },
  {
   "cell_type": "code",
   "execution_count": null,
   "id": "791caf00-801d-4e8a-956c-9c765f1c1660",
   "metadata": {},
   "outputs": [],
   "source": [
    "df3 = pd.DataFrame({'name':None}, index=[0])\n",
    "\n",
    "#df2 = pd.DataFrame({'name':[None],'product':[None],'type':[None],'date_start':[None],'date_stop':[None],'spend':[None]})\n",
    "for i in range(len(df_adsets_data)):\n",
    "    for j in range(len(df_adsets_data['insights'][i]['data'])):\n",
    "        df3['name'] = df_adsets_data['name'][i]\n",
    "        df3['status'] = df_adsets_data['status'][i]\n",
    "        df3['product'] = df_adsets_data['product'][i]\n",
    "        df3['kind'] = df_adsets_data['kind'][i]\n",
    "        df3['ads_amount'] = len(df_adsets_data['ads'][i]['data'])\n",
    "        df3['date_start'] = pd.to_datetime(df_adsets_data['insights'][i]['data'][j]['date_start'])\n",
    "        df3['date_stop'] = pd.to_datetime(df_adsets_data['insights'][i]['data'][j]['date_stop'])\n",
    "        df3['spend'] = float(df_adsets_data['insights'][i]['data'][j]['spend'])\n",
    "        df3['clicks'] = int(df_adsets_data['insights'][i]['data'][j]['clicks'])\n",
    "        df3['impressions'] = int(df_adsets_data['insights'][i]['data'][j]['impressions'])\n",
    "        df3['ctr'] = df_adsets_data['insights'][i]['data'][j].get('ctr') if df_adsets_data['insights'][i]['data'][j].get('ctr') is None else float(df_adsets_data['insights'][i]['data'][j].get('ctr'))\n",
    "        df3['cpc'] = df_adsets_data['insights'][i]['data'][j].get('cpc') if df_adsets_data['insights'][i]['data'][j].get('cpc') is None else float(df_adsets_data['insights'][i]['data'][j].get('cpc'))\n",
    "        df3['cpm'] = df_adsets_data['insights'][i]['data'][j].get('cpm') if df_adsets_data['insights'][i]['data'][j].get('cpm') is None else float(df_adsets_data['insights'][i]['data'][j].get('cpm'))\n",
    "        df3['video_25'] = df_adsets_data['insights'][i]['data'][j].get('video_p25_watched_actions') if df_adsets_data['insights'][i]['data'][j].get('video_p25_watched_actions') is None else int(df_adsets_data['insights'][i]['data'][j]['video_p25_watched_actions'][0]['value'])\n",
    "        df3['video_50'] = df_adsets_data['insights'][i]['data'][j].get('video_p50_watched_actions') if df_adsets_data['insights'][i]['data'][j].get('video_p50_watched_actions') is None else int(df_adsets_data['insights'][i]['data'][j]['video_p50_watched_actions'][0]['value'])\n",
    "        df3['video_75'] = df_adsets_data['insights'][i]['data'][j].get('video_p75_watched_actions') if df_adsets_data['insights'][i]['data'][j].get('video_p75_watched_actions') is None else int(df_adsets_data['insights'][i]['data'][j]['video_p75_watched_actions'][0]['value'])\n",
    "        \n",
    "        try:\n",
    "            x = df_adsets_data['insights'][i]['data'][j]['actions'].index({'action_type': 'purchase', 'value': '1'})\n",
    "            df3['purchase'] = int(df_adsets_data['insights'][i]['data'][j]['actions'][x]['value'])\n",
    "            df3['purchase_roas'] = float(df_adsets_data['insights'][i]['data'][j]['purchase_roas'][0]['value'])\n",
    "        except:\n",
    "            df3['purchase'] = 0\n",
    "            df3['purchase_roas'] = 0\n",
    "        \n",
    "        df_adsets_insights = df_adsets_insights.append(df3)\n",
    "        \n",
    "df_adsets_insights.reset_index(drop=True, inplace=True)"
   ]
  },
  {
   "cell_type": "code",
   "execution_count": null,
   "id": "7d9fdae1-4bb2-4ffe-8600-cc84a244c7cc",
   "metadata": {},
   "outputs": [],
   "source": [
    "#dados acumulados por campanha\n",
    "df_adsets_insights['purchase_acc'] = df_adsets_insights.groupby('name')['purchase'].cumsum()\n",
    "df_adsets_insights['spend_acc'] = df_adsets_insights.groupby('name')['spend'].cumsum()\n",
    "df_adsets_insights['cpa'] = df_adsets_insights['spend'] / df_adsets_insights['purchase']\n",
    "df_adsets_insights['cpa_acc'] = df_adsets_insights['spend_acc'] / df_adsets_insights['purchase_acc']\n",
    "\n",
    "for i in range(len(df_adsets_insights)):\n",
    "    if df_adsets_insights['purchase'][i] != 0:\n",
    "        df_adsets_insights['cpa'][i] = df_adsets_insights['spend'][i] / df_adsets_insights['purchase'][i]\n",
    "    else:\n",
    "        df_adsets_insights['cpa'][i] = df_adsets_insights['spend'][i]\n",
    "        \n",
    "for i in range(len(df_adsets_insights)):\n",
    "    if df_adsets_insights['purchase_acc'][i] != 0:\n",
    "        df_adsets_insights['cpa_acc'][i] = df_adsets_insights['spend_acc'][i] / df_adsets_insights['purchase_acc'][i]\n",
    "    else:\n",
    "        df_adsets_insights['cpa_acc'][i] = df_adsets_insights['spend_acc'][i]\n",
    "        \n",
    "df_adsets_insights['purchase_value'] = df_adsets_insights['purchase_roas'] * df_adsets_insights['spend']\n",
    "df_adsets_insights['purchase_value_acc'] = df_adsets_insights.groupby('name')['purchase_value'].cumsum()\n",
    "df_adsets_insights['purchase_roas_acc'] = df_adsets_insights['purchase_value_acc'] / df_adsets_insights['spend_acc']\n",
    "\n",
    "df_adsets_insights['clicks_acc'] = df_adsets_insights.groupby('name')['clicks'].cumsum()\n",
    "df_adsets_insights['impressions_acc'] = df_adsets_insights.groupby('name')['impressions'].cumsum()\n",
    "df_adsets_insights['cpc_acc'] = df_adsets_insights['spend_acc'] / df_adsets_insights['clicks_acc']\n",
    "df_adsets_insights['cpm_acc'] = (df_adsets_insights['spend_acc'] / df_adsets_insights['impressions_acc']) * 1000\n",
    "df_adsets_insights['ctr_acc'] = df_adsets_insights['clicks_acc'] / df_adsets_insights['impressions_acc'] * 100 #em %\n",
    "\n",
    "df_adsets_insights.replace([np.inf, -np.inf], 0, inplace=True)\n",
    "\n",
    "df_adsets_insights['video_25_acc'] = df_adsets_insights.groupby('name')['video_25'].cumsum()\n",
    "df_adsets_insights['video_50_acc'] = df_adsets_insights.groupby('name')['video_50'].cumsum()\n",
    "df_adsets_insights['video_75_acc'] = df_adsets_insights.groupby('name')['video_75'].cumsum()"
   ]
  },
  {
   "cell_type": "code",
   "execution_count": null,
   "id": "35c356c4-6c81-4de2-a513-37f8d6389151",
   "metadata": {},
   "outputs": [],
   "source": [
    "df_adsets_insights.head()"
   ]
  },
  {
   "cell_type": "code",
   "execution_count": null,
   "id": "05ad0383-5ad5-4bad-913f-ebbf9236bd55",
   "metadata": {},
   "outputs": [],
   "source": [
    "#filtros\n",
    "product = 'DIP'\n",
    "kind = 'REMARKETING'\n",
    "status = 'ACTIVE'\n",
    "\n",
    "df_filter_adsets = df_adsets_insights[(df_adsets_insights['product']==product) & (df_adsets_insights['kind']==kind) & (df_adsets_insights['status']==status)]"
   ]
  },
  {
   "cell_type": "markdown",
   "id": "4f6bbf77-ef32-402d-b1f1-e16f3288d91d",
   "metadata": {
    "jp-MarkdownHeadingCollapsed": true,
    "tags": []
   },
   "source": [
    "#### 4.4.1. Spend"
   ]
  },
  {
   "cell_type": "code",
   "execution_count": null,
   "id": "da02fec8-0d5c-42ad-a25b-4987668ca2fb",
   "metadata": {},
   "outputs": [],
   "source": [
    "plt.figure(figsize=(12,6))\n",
    "plt.title(\"Gasto x Tempo por conjunto de anúncio\")\n",
    "\n",
    "a = sns.lineplot(x='date_start', y='spend', data=df_filter_adsets, ci=None, hue='name')"
   ]
  },
  {
   "cell_type": "code",
   "execution_count": null,
   "id": "d59369ee-cf66-414f-859c-20eea13948b7",
   "metadata": {},
   "outputs": [],
   "source": [
    "#spend acumulado\n",
    "plt.figure(figsize=(12,6))\n",
    "plt.title(\"Gasto acumulado x Tempo por conjunto de anúncio\")\n",
    "\n",
    "a = sns.lineplot(x='date_start', y='spend_acc', data=df_filter_adsets, ci=None, hue='name')"
   ]
  },
  {
   "cell_type": "markdown",
   "id": "017a88ad-be33-436e-b4ed-8c13bdafab5a",
   "metadata": {
    "jp-MarkdownHeadingCollapsed": true,
    "tags": []
   },
   "source": [
    "#### 4.4.2. CPC"
   ]
  },
  {
   "cell_type": "code",
   "execution_count": null,
   "id": "b61ac760-16b9-477b-9446-3649ae5c6a43",
   "metadata": {},
   "outputs": [],
   "source": [
    "plt.figure(figsize=(12,6))\n",
    "plt.title(\"CPC x Tempo por conjunto de anúncio\")\n",
    "\n",
    "a = sns.lineplot(x='date_start', y='cpc', data=df_filter_adsets, ci=None, hue='name')"
   ]
  },
  {
   "cell_type": "code",
   "execution_count": null,
   "id": "0b1025cd-acbf-4de9-a791-606233631d65",
   "metadata": {},
   "outputs": [],
   "source": [
    "#cpc acumulado\n",
    "plt.figure(figsize=(12,6))\n",
    "plt.title(\"CPC acumulado x Tempo por conjunto de anúncio\")\n",
    "\n",
    "a = sns.lineplot(x='date_start', y='cpc_acc', data=df_filter_adsets, ci=None, hue='name')"
   ]
  },
  {
   "cell_type": "markdown",
   "id": "4c1ec3d1-13a1-4db4-9822-a08aa22b6615",
   "metadata": {
    "jp-MarkdownHeadingCollapsed": true,
    "tags": []
   },
   "source": [
    "#### 4.4.3. CPM"
   ]
  },
  {
   "cell_type": "code",
   "execution_count": null,
   "id": "decf9c2c-21fd-4b39-a00b-f0985670234c",
   "metadata": {},
   "outputs": [],
   "source": [
    "plt.figure(figsize=(12,6))\n",
    "plt.title(\"CPM x Tempo por conjunto de anúncio\")\n",
    "\n",
    "a = sns.lineplot(x='date_start', y='cpm', data=df_filter_adsets, ci=None, hue='name')"
   ]
  },
  {
   "cell_type": "code",
   "execution_count": null,
   "id": "e8ae902d-bec4-42bb-b450-e70d31b37e20",
   "metadata": {},
   "outputs": [],
   "source": [
    "#cpm acumulado\n",
    "plt.figure(figsize=(12,6))\n",
    "plt.title(\"CPM acumulado x Tempo por conjunto de anúncio\")\n",
    "\n",
    "a = sns.lineplot(x='date_start', y='cpm_acc', data=df_filter_adsets, ci=None, hue='name')"
   ]
  },
  {
   "cell_type": "markdown",
   "id": "ac453c12-69fc-49d5-9d0e-4fa89071ae2a",
   "metadata": {
    "jp-MarkdownHeadingCollapsed": true,
    "tags": []
   },
   "source": [
    "#### 4.4.4. CTR"
   ]
  },
  {
   "cell_type": "code",
   "execution_count": null,
   "id": "603e84eb-9e64-474f-b60a-2a2fd6cb64b1",
   "metadata": {},
   "outputs": [],
   "source": [
    "plt.figure(figsize=(12,6))\n",
    "plt.title(\"CTR x Tempo por conjunto de anúncio\")\n",
    "\n",
    "a = sns.lineplot(x='date_start', y='ctr', data=df_filter_adsets, ci=None, hue='name')"
   ]
  },
  {
   "cell_type": "code",
   "execution_count": null,
   "id": "0964ae12-0d3c-47e7-bc56-0516b05295c9",
   "metadata": {},
   "outputs": [],
   "source": [
    "#ctr acumulado\n",
    "plt.figure(figsize=(12,6))\n",
    "plt.title(\"CTR acumulado x Tempo por conjunto de anúncio\")\n",
    "\n",
    "a = sns.lineplot(x='date_start', y='ctr_acc', data=df_filter_adsets, ci=None, hue='name')"
   ]
  },
  {
   "cell_type": "markdown",
   "id": "694534a0-0cde-4015-ab08-c0ff13e8de35",
   "metadata": {
    "jp-MarkdownHeadingCollapsed": true,
    "tags": []
   },
   "source": [
    "#### 4.4.5. CPA"
   ]
  },
  {
   "cell_type": "code",
   "execution_count": null,
   "id": "c93c6ba7-604c-49f0-b3ee-26556ffc4767",
   "metadata": {},
   "outputs": [],
   "source": [
    "plt.figure(figsize=(12,6))\n",
    "plt.title(\"CPA x Tempo por conjunto de anúncio\")\n",
    "\n",
    "a = sns.lineplot(x='date_start', y='cpa', data=df_filter_adsets, ci=None, hue='name')"
   ]
  },
  {
   "cell_type": "code",
   "execution_count": null,
   "id": "6be05350-cd34-49cb-81cb-62db955e97f6",
   "metadata": {},
   "outputs": [],
   "source": [
    "#cpa acumulado\n",
    "plt.figure(figsize=(12,6))\n",
    "plt.title(\"CPA acumulado x Tempo por conjunto de anúncio\")\n",
    "\n",
    "a = sns.lineplot(x='date_start', y='cpa_acc', data=df_filter_adsets, ci=None, hue='name')"
   ]
  },
  {
   "cell_type": "markdown",
   "id": "e11c8906-9c9c-41c8-b709-28cd00ddcad9",
   "metadata": {
    "jp-MarkdownHeadingCollapsed": true,
    "tags": []
   },
   "source": [
    "#### 4.4.6. ROAS"
   ]
  },
  {
   "cell_type": "code",
   "execution_count": null,
   "id": "83c10de2-96e6-4905-a3b8-9c61ce3357da",
   "metadata": {},
   "outputs": [],
   "source": [
    "plt.figure(figsize=(12,6))\n",
    "plt.title(\"ROAS x Tempo por conjunto de anúncio\")\n",
    "\n",
    "a = sns.lineplot(x='date_start', y='purchase_roas', data=df_filter_adsets, ci=None, hue='name')"
   ]
  },
  {
   "cell_type": "code",
   "execution_count": null,
   "id": "0da66f78-ba3c-460e-8a02-297ab00f1c64",
   "metadata": {},
   "outputs": [],
   "source": [
    "#roas acumulado\n",
    "plt.figure(figsize=(12,6))\n",
    "plt.title(\"ROAS acumulado x Tempo por conjunto de anúncio\")\n",
    "\n",
    "a = sns.lineplot(x='date_start', y='purchase_roas_acc', data=df_filter_adsets, ci=None, hue='name')"
   ]
  },
  {
   "cell_type": "markdown",
   "id": "b39fc57e-01f3-45da-b99e-db79b1fa73aa",
   "metadata": {
    "jp-MarkdownHeadingCollapsed": true,
    "tags": []
   },
   "source": [
    "#### 4.4.7. Video watched"
   ]
  },
  {
   "cell_type": "code",
   "execution_count": null,
   "id": "a90fcc2c-f3dc-419e-b710-b81fc7478c05",
   "metadata": {},
   "outputs": [],
   "source": [
    "plt.figure(figsize=(12,6))\n",
    "plt.title(\"Video-25% x Tempo por campanha\")\n",
    "\n",
    "a = sns.lineplot(x='date_start', y='video_25', data=df_filter_adsets, ci=None, hue='name')"
   ]
  },
  {
   "cell_type": "code",
   "execution_count": null,
   "id": "c3acfa57-eaaf-4563-a8a3-b5ad5f860be2",
   "metadata": {},
   "outputs": [],
   "source": [
    "#video-25 acumulado\n",
    "plt.figure(figsize=(12,6))\n",
    "plt.title(\"Video-25% acumulado x Tempo por campanha\")\n",
    "\n",
    "a = sns.lineplot(x='date_start', y='video_25_acc', data=df_filter_adsets, ci=None, hue='name')"
   ]
  },
  {
   "cell_type": "code",
   "execution_count": null,
   "id": "29f58e7c-2ed7-4686-bb42-d464d5486396",
   "metadata": {},
   "outputs": [],
   "source": [
    "plt.figure(figsize=(12,6))\n",
    "plt.title(\"Video-50% x Tempo por campanha\")\n",
    "\n",
    "a = sns.lineplot(x='date_start', y='video_50', data=df_filter_adsets, ci=None, hue='name')"
   ]
  },
  {
   "cell_type": "code",
   "execution_count": null,
   "id": "aea0ec7b-14d8-440b-a6ee-234fc90a94e6",
   "metadata": {},
   "outputs": [],
   "source": [
    "#video-50 acumulado\n",
    "plt.figure(figsize=(12,6))\n",
    "plt.title(\"Video-50% acumulado x Tempo por campanha\")\n",
    "\n",
    "a = sns.lineplot(x='date_start', y='video_50_acc', data=df_filter_adsets, ci=None, hue='name')"
   ]
  },
  {
   "cell_type": "code",
   "execution_count": null,
   "id": "12079a53-5023-4dc0-9e17-26f6364c8533",
   "metadata": {},
   "outputs": [],
   "source": [
    "plt.figure(figsize=(12,6))\n",
    "plt.title(\"Video-75% x Tempo por campanha\")\n",
    "\n",
    "a = sns.lineplot(x='date_start', y='video_75', data=df_filter_adsets, ci=None, hue='name')"
   ]
  },
  {
   "cell_type": "code",
   "execution_count": null,
   "id": "be2168fe-0611-406e-80a4-995f84582e86",
   "metadata": {},
   "outputs": [],
   "source": [
    "#video-75 acumulado\n",
    "plt.figure(figsize=(12,6))\n",
    "plt.title(\"Video-75% acumulado x Tempo por campanha\")\n",
    "\n",
    "a = sns.lineplot(x='date_start', y='video_75_acc', data=df_filter_adsets, ci=None, hue='name')"
   ]
  },
  {
   "cell_type": "markdown",
   "id": "25c4109e-00aa-449a-ba78-d9ed93f2619c",
   "metadata": {
    "jp-MarkdownHeadingCollapsed": true,
    "tags": []
   },
   "source": [
    "#### Indicadores por quantidade de anúncios"
   ]
  },
  {
   "cell_type": "code",
   "execution_count": null,
   "id": "bd2ed55c-02c2-4d45-aaca-f80fb306361f",
   "metadata": {},
   "outputs": [],
   "source": [
    "plt.figure(figsize=(12,6))\n",
    "plt.title(\"CPC acumulado x Tempo por qtde de anúncio\")\n",
    "\n",
    "a = sns.lineplot(x='date_start', y='cpc_acc', data=df_adsets_insights, ci=None, hue='ads_amount', style='ads_amount')"
   ]
  },
  {
   "cell_type": "code",
   "execution_count": null,
   "id": "2eb6031a-06e3-43e2-87ab-288a8351cfae",
   "metadata": {},
   "outputs": [],
   "source": [
    "plt.figure(figsize=(12,6))\n",
    "plt.title(\"CPM acumulado x Tempo por qtde de anúncio\")\n",
    "\n",
    "a = sns.lineplot(x='date_start', y='cpm_acc', data=df_adsets_insights, ci=None, hue='ads_amount', style='ads_amount')"
   ]
  },
  {
   "cell_type": "code",
   "execution_count": null,
   "id": "03b29646-35df-4b2f-9ae5-1da642d5d5f1",
   "metadata": {},
   "outputs": [],
   "source": [
    "plt.figure(figsize=(12,6))\n",
    "plt.title(\"CTR acumulado x Tempo por qtde de anúncio\")\n",
    "\n",
    "a = sns.lineplot(x='date_start', y='ctr_acc', data=df_adsets_insights, ci=None, hue='ads_amount', style='ads_amount')"
   ]
  },
  {
   "cell_type": "markdown",
   "id": "1ebaaf5f-928d-4964-ae5c-b935b74739a1",
   "metadata": {
    "jp-MarkdownHeadingCollapsed": true,
    "tags": []
   },
   "source": [
    "#### Correlacionando indicadores"
   ]
  },
  {
   "cell_type": "code",
   "execution_count": null,
   "id": "be746760-b9fe-4c79-a1ef-fa3e39bc3e9c",
   "metadata": {},
   "outputs": [],
   "source": [
    "df_adsets_insights['spend_norm'] = df_adsets_insights['spend'] / np.amax(df_adsets_insights['spend'], axis=0)\n",
    "df_adsets_insights['cpc_norm'] = df_adsets_insights['cpc'] / np.amax(df_adsets_insights['cpc'], axis=0)\n",
    "df_adsets_insights['cpm_norm'] = df_adsets_insights['cpm'] / np.amax(df_adsets_insights['cpm'], axis=0)\n",
    "df_adsets_insights['ctr_norm'] = df_adsets_insights['ctr'] / np.amax(df_adsets_insights['ctr'], axis=0)"
   ]
  },
  {
   "cell_type": "code",
   "execution_count": null,
   "id": "d7ecb393-1f8a-4773-9014-7d69a8c84fc2",
   "metadata": {},
   "outputs": [],
   "source": [
    "plt.figure(figsize=(12,6))\n",
    "plt.title(\"KPI's x Tempo por campanha\")\n",
    "\n",
    "#a = sns.lineplot(x='date_start', y='spend_norm', data=df_filter, ci=None)\n",
    "a = sns.lineplot(x='date_start', y='cpc_norm', data=df_filter_adsets, ci=None)\n",
    "a = sns.lineplot(x='date_start', y='cpm_norm', data=df_filter_adsets, ci=None)\n",
    "a = sns.lineplot(x='date_start', y='ctr_norm', data=df_filter_adsets, ci=None)\n",
    "\n",
    "plt.legend(['cpc', 'cpm', 'ctr'])"
   ]
  },
  {
   "cell_type": "markdown",
   "id": "6bb153a1-6c43-47ae-9238-e4be9ee0c133",
   "metadata": {
    "tags": []
   },
   "source": [
    "## 5. coletando dados de anúncio"
   ]
  },
  {
   "cell_type": "code",
   "execution_count": 14,
   "id": "655e2fc2-8854-4691-bea7-10884af7adb8",
   "metadata": {},
   "outputs": [],
   "source": [
    "df_ads_full = pd.read_csv('ads_full.csv', sep=';')"
   ]
  },
  {
   "cell_type": "code",
   "execution_count": 15,
   "id": "41c8406c-c3d0-46d5-a002-1cc57d19ab02",
   "metadata": {},
   "outputs": [
    {
     "data": {
      "text/plain": [
       "'2022-03-24'"
      ]
     },
     "execution_count": 15,
     "metadata": {},
     "output_type": "execute_result"
    }
   ],
   "source": [
    "df_ads_full['date_start'].min()"
   ]
  },
  {
   "cell_type": "code",
   "execution_count": 16,
   "id": "e0bdcc09-3a0e-4cb2-972c-f1d2ad19dd9d",
   "metadata": {},
   "outputs": [],
   "source": [
    "df_ads = pd.DataFrame()"
   ]
  },
  {
   "cell_type": "code",
   "execution_count": null,
   "id": "aae9e569-4b53-47d6-bee6-4575f2e081d7",
   "metadata": {},
   "outputs": [],
   "source": [
    "#graph.get_ads_status(since_until=[(datetime(2022,11,24) - timedelta(days=0)).strftime(\"%Y-%m-%d\"),(datetime(2022,11,24) - timedelta(days=0)).strftime(\"%Y-%m-%d\")], increment=1, process=1, impressions=50000, effective_status=['CAMPAIGN_PAUSED'])"
   ]
  },
  {
   "cell_type": "code",
   "execution_count": null,
   "id": "a1fcfb00-e661-41bd-a983-f3b60a8d00e1",
   "metadata": {
    "tags": []
   },
   "outputs": [],
   "source": [
    "for i in range(10):\n",
    "    while True:\n",
    "            try:\n",
    "                df_temp = graph.get_ads_status(since_until=[(datetime(2022,3,13) - timedelta(days=i)).strftime(\"%Y-%m-%d\"),(datetime(2022,3,13) - timedelta(days=i)).strftime(\"%Y-%m-%d\")], increment=1, process=1, filter='GREATER_THAN', impressions=50000, effective_status=['CAMPAIGN_PAUSED'])\n",
    "                #df_temp2 = graph.get_ads_status(since_until=[(datetime(2022,11,13) - timedelta(days=i)).strftime(\"%Y-%m-%d\"),(datetime(2022,11,13) - timedelta(days=i)).strftime(\"%Y-%m-%d\")], increment=1, process=1, filter='LESS_THAN_OR_EQUAL', impressions=50000, effective_status=['CAMPAIGN_PAUSED'])\n",
    "                #df_temp3 = graph.get_ads_status(since_until=[(datetime(2022,11,13) - timedelta(days=i)).strftime(\"%Y-%m-%d\"),(datetime(2022,11,13) - timedelta(days=i)).strftime(\"%Y-%m-%d\")], increment=1, process=1, filter='GREATER_THAN', impressions=0, effective_status=['PAUSED','ACTIVE','ADSET_PAUSED'])\n",
    "                df_ads = df_ads.append(df_temp)\n",
    "                #df_ads = df_ads.append(df_temp2)\n",
    "                #df_ads = df_ads.append(df_temp3)\n",
    "                #if KeyError:\n",
    "                #    raise Exception(\"Timeout\")\n",
    "                print(i)\n",
    "                break\n",
    "            except:\n",
    "                time.sleep(30)\n",
    "                print('erro',i)"
   ]
  },
  {
   "cell_type": "code",
   "execution_count": null,
   "id": "db448cc2-cd68-42a1-928e-94439e43eb70",
   "metadata": {},
   "outputs": [],
   "source": [
    "for i in range(10):\n",
    "    while True:\n",
    "            try:\n",
    "                df_temp = graph.get_ads_status(since_until=[(datetime(2022,3,13) - timedelta(days=i)).strftime(\"%Y-%m-%d\"),(datetime(2022,3,13) - timedelta(days=i)).strftime(\"%Y-%m-%d\")], increment=1, process=1, filter='LESS_THAN_OR_EQUAL', impressions=50000, effective_status=['CAMPAIGN_PAUSED'])\n",
    "                df_ads = df_ads.append(df_temp)\n",
    "                print(i)\n",
    "                break\n",
    "            except:\n",
    "                time.sleep(30)\n",
    "                print('erro',i)"
   ]
  },
  {
   "cell_type": "code",
   "execution_count": null,
   "id": "349d7e19-4b60-4836-82c1-5242d364d235",
   "metadata": {},
   "outputs": [],
   "source": [
    "for i in range(10):\n",
    "    while True:\n",
    "            try:\n",
    "                df_temp = graph.get_ads_status(since_until=[(datetime(2022,3,13) - timedelta(days=i)).strftime(\"%Y-%m-%d\"),(datetime(2022,3,13) - timedelta(days=i)).strftime(\"%Y-%m-%d\")], increment=1, process=1, filter='GREATER_THAN', impressions=0, effective_status=['PAUSED','ACTIVE','ADSET_PAUSED'])\n",
    "                df_ads = df_ads.append(df_temp)\n",
    "                print(i)\n",
    "                break\n",
    "            except:\n",
    "                time.sleep(30)\n",
    "                print('erro',i)"
   ]
  },
  {
   "cell_type": "code",
   "execution_count": null,
   "id": "eaebe0bf-8386-4c90-9516-0b14074030aa",
   "metadata": {},
   "outputs": [],
   "source": [
    "df_ads_data = df_ads[df_ads['insights'].notna()].reset_index(drop=True)"
   ]
  },
  {
   "cell_type": "code",
   "execution_count": null,
   "id": "3d7f2fb1-a9a8-4d65-b266-9f3367774ce7",
   "metadata": {},
   "outputs": [],
   "source": [
    "df_ads_data_insights = pd.DataFrame()"
   ]
  },
  {
   "cell_type": "code",
   "execution_count": null,
   "id": "16cbc003-712c-477f-a427-e3f7581e9eb0",
   "metadata": {},
   "outputs": [],
   "source": [
    "df4 = pd.DataFrame({'name':None}, index=[0])\n",
    "\n",
    "#df2 = pd.DataFrame({'name':[None],'product':[None],'type':[None],'date_start':[None],'date_stop':[None],'spend':[None]})\n",
    "for i in range(len(df_ads_data)):\n",
    "    for j in range(len(df_ads_data['insights'][i]['data'])):\n",
    "        df4['name'] = df_ads_data['name'][i]\n",
    "        df4['status'] = df_ads_data['status'][i]\n",
    "        df4['product'] = df_ads_data['product'][i]\n",
    "        df4['kind'] = df_ads_data['kind'][i]\n",
    "        df4['objective'] = df_ads_data['objective'][i]\n",
    "        df4['adset_name'] = df_ads_data['adset_name'][i]\n",
    "        df4['insta_link'] = df_ads_data['insta_link'][i]\n",
    "        df4['thumb_link'] = df_ads_data['thumb_link'][i]\n",
    "        df4['date_start'] = df_ads_data['insights'][i]['data'][j]['date_start']\n",
    "        df4['date_stop'] = df_ads_data['insights'][i]['data'][j]['date_stop']\n",
    "        df4['spend'] = float(df_ads_data['insights'][i]['data'][j]['spend'])\n",
    "        df4['clicks'] = int(df_ads_data['insights'][i]['data'][j]['clicks'])\n",
    "        df4['impressions'] = int(df_ads_data['insights'][i]['data'][j]['impressions'])\n",
    "        df4['frequency'] = float(df_ads_data['insights'][i]['data'][j]['frequency'])\n",
    "        df4['reach'] = int(df_ads_data['insights'][i]['data'][j]['reach'])\n",
    "        df4['ctr'] = df_ads_data['insights'][i]['data'][j].get('ctr') if df_ads_data['insights'][i]['data'][j].get('ctr') is None else float(df_ads_data['insights'][i]['data'][j].get('ctr'))\n",
    "        df4['cpc'] = df_ads_data['insights'][i]['data'][j].get('cpc') if df_ads_data['insights'][i]['data'][j].get('cpc') is None else float(df_ads_data['insights'][i]['data'][j].get('cpc'))\n",
    "        df4['cpm'] = df_ads_data['insights'][i]['data'][j].get('cpm') if df_ads_data['insights'][i]['data'][j].get('cpm') is None else float(df_ads_data['insights'][i]['data'][j].get('cpm'))\n",
    "        df4['video_25'] = df_ads_data['insights'][i]['data'][j].get('video_p25_watched_actions') if df_ads_data['insights'][i]['data'][j].get('video_p25_watched_actions') is None else int(df_ads_data['insights'][i]['data'][j]['video_p25_watched_actions'][0]['value'])\n",
    "        df4['video_50'] = df_ads_data['insights'][i]['data'][j].get('video_p50_watched_actions') if df_ads_data['insights'][i]['data'][j].get('video_p50_watched_actions') is None else int(df_ads_data['insights'][i]['data'][j]['video_p50_watched_actions'][0]['value'])\n",
    "        df4['video_75'] = df_ads_data['insights'][i]['data'][j].get('video_p75_watched_actions') if df_ads_data['insights'][i]['data'][j].get('video_p75_watched_actions') is None else int(df_ads_data['insights'][i]['data'][j]['video_p75_watched_actions'][0]['value'])\n",
    "        \n",
    "        try:\n",
    "            x = df_ads_data['insights'][i]['data'][j]['actions'].index({'action_type': 'purchase', 'value': '1'})\n",
    "            df4['purchase'] = int(df_ads_data['insights'][i]['data'][j]['actions'][x]['value'])\n",
    "            df4['purchase_roas'] = float(df_ads_data['insights'][i]['data'][j]['purchase_roas'][0]['value'])\n",
    "        except:\n",
    "            df4['purchase'] = 0\n",
    "            df4['purchase_roas'] = 0\n",
    "            \n",
    "        for k in range(len(df_ads_data['targetingsentencelines'][i]['targetingsentencelines'])):\n",
    "            try:\n",
    "                col = df_ads_data['targetingsentencelines'][i]['targetingsentencelines'][k]['content']\n",
    "                row = df_ads_data['targetingsentencelines'][i]['targetingsentencelines'][k]['children']\n",
    "                df4[col] = row\n",
    "            except:\n",
    "                df4[col] = 0\n",
    "                \n",
    "        \n",
    "        df_ads_data_insights = df_ads_data_insights.append(df4)\n",
    "        \n",
    "df_ads_data_insights.reset_index(drop=True, inplace=True)\n",
    "\n",
    "for i in range(len(df_ads_data_insights['Posicionamentos:'])):\n",
    "    df_ads_data_insights['Posicionamentos:'][i] = df_ads_data_insights['Posicionamentos:'][i].split(',')"
   ]
  },
  {
   "cell_type": "code",
   "execution_count": null,
   "id": "37908ed6-46aa-4650-8da7-9572da625e16",
   "metadata": {},
   "outputs": [],
   "source": [
    "df_ads_full = df_ads_full.append(df_ads_data_insights)\n",
    "df_ads_full.reset_index(drop=True, inplace=True)\n",
    "df_ads_full['date_start'] = pd.to_datetime(df_ads_full['date_start'])\n",
    "df_ads_full['date_stop'] = pd.to_datetime(df_ads_full['date_stop'])"
   ]
  },
  {
   "cell_type": "code",
   "execution_count": 10,
   "id": "df7e63e8-a5e1-4023-8ecf-de168490ff4c",
   "metadata": {},
   "outputs": [],
   "source": [
    "df_ads_full.to_csv('ads_full.csv', sep=';', index=False, decimal='.')"
   ]
  },
  {
   "cell_type": "code",
   "execution_count": null,
   "id": "7002a108-549b-4766-8bb0-6e583799649d",
   "metadata": {},
   "outputs": [],
   "source": [
    "pd.options.display.max_columns = 99\n",
    "df_ads_full"
   ]
  },
  {
   "cell_type": "code",
   "execution_count": null,
   "id": "ac55ae56-3c6c-49ba-9207-2f69e1b0cb30",
   "metadata": {},
   "outputs": [],
   "source": [
    "#df_ads_full.drop(columns=['purchase_acc','spend_acc','cpa','cpa_acc','purchase_value','purchase_value_acc','purchase_roas_acc','clicks_acc','impressions_acc','reach_acc','cpc_acc',\n",
    " #                         'cpm_acc', 'ctr_acc','video_25_acc','video_25_acc','video_25_acc'], axis=1, inplace=True)"
   ]
  },
  {
   "cell_type": "code",
   "execution_count": null,
   "id": "b456c59a-912c-4f59-88d8-70658c322749",
   "metadata": {},
   "outputs": [],
   "source": [
    "'''\n",
    "#dados acumulados por campanha\n",
    "df_ads_data_insights['purchase_acc'] = df_ads_data_insights.groupby('name')['purchase'].cumsum()\n",
    "df_ads_data_insights['spend_acc'] = df_ads_data_insights.groupby('name')['spend'].cumsum()\n",
    "df_ads_data_insights['cpa'] = df_ads_data_insights['spend'] / df_ads_data_insights['purchase']\n",
    "df_ads_data_insights['cpa_acc'] = df_ads_data_insights['spend_acc'] / df_ads_data_insights['purchase_acc']\n",
    "\n",
    "'''\n",
    "'''\n",
    "for i in range(len(df_ads_data_insights)):\n",
    "    if df_ads_data_insights['purchase'][i] != 0:\n",
    "        df_ads_data_insights['cpa'][i] = df_ads_data_insights['spend'][i] / df_ads_data_insights['purchase'][i]\n",
    "    else:\n",
    "        df_ads_data_insights['cpa'][i] = df_ads_data_insights['spend'][i]\n",
    "        \n",
    "for i in range(len(df_ads_data_insights)):\n",
    "    if df_ads_data_insights['purchase_acc'][i] != 0:\n",
    "        df_ads_data_insights['cpa_acc'][i] = df_ads_data_insights['spend_acc'][i] / df_ads_data_insights['purchase_acc'][i]\n",
    "    else:\n",
    "        df_ads_data_insights['cpa_acc'][i] = df_ads_data_insights['spend_acc'][i]\n",
    "'''\n",
    "'''\n",
    "  \n",
    "df_ads_data_insights['purchase_value'] = df_ads_data_insights['purchase_roas'] * df_ads_data_insights['spend']\n",
    "df_ads_data_insights['purchase_value_acc'] = df_ads_data_insights.groupby('name')['purchase_value'].cumsum()\n",
    "df_ads_data_insights['purchase_roas_acc'] = df_ads_data_insights['purchase_value_acc'] / df_ads_data_insights['spend_acc']\n",
    "\n",
    "df_ads_data_insights['clicks_acc'] = df_ads_data_insights.groupby('name')['clicks'].cumsum()\n",
    "df_ads_data_insights['impressions_acc'] = df_ads_data_insights.groupby('name')['impressions'].cumsum()\n",
    "df_ads_data_insights['reach_acc'] = df_ads_data_insights.groupby('name')['reach'].cumsum()\n",
    "df_ads_data_insights['cpc_acc'] = df_ads_data_insights['spend_acc'] / df_ads_data_insights['clicks_acc']\n",
    "df_ads_data_insights['cpm_acc'] = (df_ads_data_insights['spend_acc'] / df_ads_data_insights['impressions_acc']) * 1000\n",
    "df_ads_data_insights['ctr_acc'] = df_ads_data_insights['clicks_acc'] / df_ads_data_insights['impressions_acc'] * 100 #em %\n",
    "\n",
    "df_ads_data_insights.replace([np.inf, -np.inf], 0, inplace=True)\n",
    "\n",
    "df_ads_data_insights['video_25_acc'] = df_ads_data_insights.groupby('name')['video_25'].cumsum()\n",
    "df_ads_data_insights['video_50_acc'] = df_ads_data_insights.groupby('name')['video_50'].cumsum()\n",
    "df_ads_data_insights['video_75_acc'] = df_ads_data_insights.groupby('name')['video_75'].cumsum()\n",
    "'''"
   ]
  },
  {
   "cell_type": "code",
   "execution_count": null,
   "id": "6fcf2e25-7050-49bd-886e-6191df18a921",
   "metadata": {},
   "outputs": [],
   "source": []
  }
 ],
 "metadata": {
  "kernelspec": {
   "display_name": "Python 3 (ipykernel)",
   "language": "python",
   "name": "python3"
  },
  "language_info": {
   "codemirror_mode": {
    "name": "ipython",
    "version": 3
   },
   "file_extension": ".py",
   "mimetype": "text/x-python",
   "name": "python",
   "nbconvert_exporter": "python",
   "pygments_lexer": "ipython3",
   "version": "3.9.7"
  },
  "vscode": {
   "interpreter": {
    "hash": "369f2c481f4da34e4445cda3fffd2e751bd1c4d706f27375911949ba6bb62e1c"
   }
  }
 },
 "nbformat": 4,
 "nbformat_minor": 5
}
